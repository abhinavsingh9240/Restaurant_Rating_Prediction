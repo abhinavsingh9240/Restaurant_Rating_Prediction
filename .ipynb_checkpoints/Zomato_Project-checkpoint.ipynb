{
 "cells": [
  {
   "cell_type": "markdown",
   "id": "efc3ebd2",
   "metadata": {},
   "source": [
    "# Restaurant Rating Prediction - (Zomato,Bangalore)"
   ]
  },
  {
   "cell_type": "markdown",
   "id": "45477337",
   "metadata": {},
   "source": [
    "Contributors - Antima Jain, Khushi Shukla, Remya RS, Abhinav Singh"
   ]
  },
  {
   "cell_type": "markdown",
   "id": "8c4f6913",
   "metadata": {},
   "source": [
    "# Data Cleaning"
   ]
  },
  {
   "cell_type": "markdown",
   "id": "64b81a6f",
   "metadata": {},
   "source": [
    "# Importing Libraries"
   ]
  },
  {
   "cell_type": "code",
   "execution_count": 147,
   "id": "9a2e4b77",
   "metadata": {},
   "outputs": [],
   "source": [
    "import pandas as pd\n",
    "import numpy as np\n",
    "import re\n",
    "import seaborn as sns\n",
    "import matplotlib.pyplot as plt \n",
    "%matplotlib inline"
   ]
  },
  {
   "cell_type": "markdown",
   "id": "3e1217be",
   "metadata": {},
   "source": [
    "# Importing Dataset"
   ]
  },
  {
   "cell_type": "code",
   "execution_count": 148,
   "id": "348e5a65",
   "metadata": {},
   "outputs": [
    {
     "data": {
      "text/html": [
       "<div>\n",
       "<style scoped>\n",
       "    .dataframe tbody tr th:only-of-type {\n",
       "        vertical-align: middle;\n",
       "    }\n",
       "\n",
       "    .dataframe tbody tr th {\n",
       "        vertical-align: top;\n",
       "    }\n",
       "\n",
       "    .dataframe thead th {\n",
       "        text-align: right;\n",
       "    }\n",
       "</style>\n",
       "<table border=\"1\" class=\"dataframe\">\n",
       "  <thead>\n",
       "    <tr style=\"text-align: right;\">\n",
       "      <th></th>\n",
       "      <th>url</th>\n",
       "      <th>address</th>\n",
       "      <th>name</th>\n",
       "      <th>online_order</th>\n",
       "      <th>book_table</th>\n",
       "      <th>rate</th>\n",
       "      <th>votes</th>\n",
       "      <th>phone</th>\n",
       "      <th>location</th>\n",
       "      <th>rest_type</th>\n",
       "      <th>dish_liked</th>\n",
       "      <th>cuisines</th>\n",
       "      <th>approx_cost(for two people)</th>\n",
       "      <th>reviews_list</th>\n",
       "      <th>menu_item</th>\n",
       "      <th>listed_in(type)</th>\n",
       "      <th>listed_in(city)</th>\n",
       "    </tr>\n",
       "  </thead>\n",
       "  <tbody>\n",
       "    <tr>\n",
       "      <th>0</th>\n",
       "      <td>https://www.zomato.com/bangalore/jalsa-banasha...</td>\n",
       "      <td>942, 21st Main Road, 2nd Stage, Banashankari, ...</td>\n",
       "      <td>Jalsa</td>\n",
       "      <td>Yes</td>\n",
       "      <td>Yes</td>\n",
       "      <td>4.1/5</td>\n",
       "      <td>775</td>\n",
       "      <td>080 42297555\\r\\n+91 9743772233</td>\n",
       "      <td>Banashankari</td>\n",
       "      <td>Casual Dining</td>\n",
       "      <td>Pasta, Lunch Buffet, Masala Papad, Paneer Laja...</td>\n",
       "      <td>North Indian, Mughlai, Chinese</td>\n",
       "      <td>800</td>\n",
       "      <td>[('Rated 4.0', 'RATED\\n  A beautiful place to ...</td>\n",
       "      <td>[]</td>\n",
       "      <td>Buffet</td>\n",
       "      <td>Banashankari</td>\n",
       "    </tr>\n",
       "    <tr>\n",
       "      <th>1</th>\n",
       "      <td>https://www.zomato.com/bangalore/spice-elephan...</td>\n",
       "      <td>2nd Floor, 80 Feet Road, Near Big Bazaar, 6th ...</td>\n",
       "      <td>Spice Elephant</td>\n",
       "      <td>Yes</td>\n",
       "      <td>No</td>\n",
       "      <td>4.1/5</td>\n",
       "      <td>787</td>\n",
       "      <td>080 41714161</td>\n",
       "      <td>Banashankari</td>\n",
       "      <td>Casual Dining</td>\n",
       "      <td>Momos, Lunch Buffet, Chocolate Nirvana, Thai G...</td>\n",
       "      <td>Chinese, North Indian, Thai</td>\n",
       "      <td>800</td>\n",
       "      <td>[('Rated 4.0', 'RATED\\n  Had been here for din...</td>\n",
       "      <td>[]</td>\n",
       "      <td>Buffet</td>\n",
       "      <td>Banashankari</td>\n",
       "    </tr>\n",
       "    <tr>\n",
       "      <th>2</th>\n",
       "      <td>https://www.zomato.com/SanchurroBangalore?cont...</td>\n",
       "      <td>1112, Next to KIMS Medical College, 17th Cross...</td>\n",
       "      <td>San Churro Cafe</td>\n",
       "      <td>Yes</td>\n",
       "      <td>No</td>\n",
       "      <td>3.8/5</td>\n",
       "      <td>918</td>\n",
       "      <td>+91 9663487993</td>\n",
       "      <td>Banashankari</td>\n",
       "      <td>Cafe, Casual Dining</td>\n",
       "      <td>Churros, Cannelloni, Minestrone Soup, Hot Choc...</td>\n",
       "      <td>Cafe, Mexican, Italian</td>\n",
       "      <td>800</td>\n",
       "      <td>[('Rated 3.0', \"RATED\\n  Ambience is not that ...</td>\n",
       "      <td>[]</td>\n",
       "      <td>Buffet</td>\n",
       "      <td>Banashankari</td>\n",
       "    </tr>\n",
       "    <tr>\n",
       "      <th>3</th>\n",
       "      <td>https://www.zomato.com/bangalore/addhuri-udupi...</td>\n",
       "      <td>1st Floor, Annakuteera, 3rd Stage, Banashankar...</td>\n",
       "      <td>Addhuri Udupi Bhojana</td>\n",
       "      <td>No</td>\n",
       "      <td>No</td>\n",
       "      <td>3.7/5</td>\n",
       "      <td>88</td>\n",
       "      <td>+91 9620009302</td>\n",
       "      <td>Banashankari</td>\n",
       "      <td>Quick Bites</td>\n",
       "      <td>Masala Dosa</td>\n",
       "      <td>South Indian, North Indian</td>\n",
       "      <td>300</td>\n",
       "      <td>[('Rated 4.0', \"RATED\\n  Great food and proper...</td>\n",
       "      <td>[]</td>\n",
       "      <td>Buffet</td>\n",
       "      <td>Banashankari</td>\n",
       "    </tr>\n",
       "    <tr>\n",
       "      <th>4</th>\n",
       "      <td>https://www.zomato.com/bangalore/grand-village...</td>\n",
       "      <td>10, 3rd Floor, Lakshmi Associates, Gandhi Baza...</td>\n",
       "      <td>Grand Village</td>\n",
       "      <td>No</td>\n",
       "      <td>No</td>\n",
       "      <td>3.8/5</td>\n",
       "      <td>166</td>\n",
       "      <td>+91 8026612447\\r\\n+91 9901210005</td>\n",
       "      <td>Basavanagudi</td>\n",
       "      <td>Casual Dining</td>\n",
       "      <td>Panipuri, Gol Gappe</td>\n",
       "      <td>North Indian, Rajasthani</td>\n",
       "      <td>600</td>\n",
       "      <td>[('Rated 4.0', 'RATED\\n  Very good restaurant ...</td>\n",
       "      <td>[]</td>\n",
       "      <td>Buffet</td>\n",
       "      <td>Banashankari</td>\n",
       "    </tr>\n",
       "  </tbody>\n",
       "</table>\n",
       "</div>"
      ],
      "text/plain": [
       "                                                 url  \\\n",
       "0  https://www.zomato.com/bangalore/jalsa-banasha...   \n",
       "1  https://www.zomato.com/bangalore/spice-elephan...   \n",
       "2  https://www.zomato.com/SanchurroBangalore?cont...   \n",
       "3  https://www.zomato.com/bangalore/addhuri-udupi...   \n",
       "4  https://www.zomato.com/bangalore/grand-village...   \n",
       "\n",
       "                                             address                   name  \\\n",
       "0  942, 21st Main Road, 2nd Stage, Banashankari, ...                  Jalsa   \n",
       "1  2nd Floor, 80 Feet Road, Near Big Bazaar, 6th ...         Spice Elephant   \n",
       "2  1112, Next to KIMS Medical College, 17th Cross...        San Churro Cafe   \n",
       "3  1st Floor, Annakuteera, 3rd Stage, Banashankar...  Addhuri Udupi Bhojana   \n",
       "4  10, 3rd Floor, Lakshmi Associates, Gandhi Baza...          Grand Village   \n",
       "\n",
       "  online_order book_table   rate  votes                             phone  \\\n",
       "0          Yes        Yes  4.1/5    775    080 42297555\\r\\n+91 9743772233   \n",
       "1          Yes         No  4.1/5    787                      080 41714161   \n",
       "2          Yes         No  3.8/5    918                    +91 9663487993   \n",
       "3           No         No  3.7/5     88                    +91 9620009302   \n",
       "4           No         No  3.8/5    166  +91 8026612447\\r\\n+91 9901210005   \n",
       "\n",
       "       location            rest_type  \\\n",
       "0  Banashankari        Casual Dining   \n",
       "1  Banashankari        Casual Dining   \n",
       "2  Banashankari  Cafe, Casual Dining   \n",
       "3  Banashankari          Quick Bites   \n",
       "4  Basavanagudi        Casual Dining   \n",
       "\n",
       "                                          dish_liked  \\\n",
       "0  Pasta, Lunch Buffet, Masala Papad, Paneer Laja...   \n",
       "1  Momos, Lunch Buffet, Chocolate Nirvana, Thai G...   \n",
       "2  Churros, Cannelloni, Minestrone Soup, Hot Choc...   \n",
       "3                                        Masala Dosa   \n",
       "4                                Panipuri, Gol Gappe   \n",
       "\n",
       "                         cuisines approx_cost(for two people)  \\\n",
       "0  North Indian, Mughlai, Chinese                         800   \n",
       "1     Chinese, North Indian, Thai                         800   \n",
       "2          Cafe, Mexican, Italian                         800   \n",
       "3      South Indian, North Indian                         300   \n",
       "4        North Indian, Rajasthani                         600   \n",
       "\n",
       "                                        reviews_list menu_item  \\\n",
       "0  [('Rated 4.0', 'RATED\\n  A beautiful place to ...        []   \n",
       "1  [('Rated 4.0', 'RATED\\n  Had been here for din...        []   \n",
       "2  [('Rated 3.0', \"RATED\\n  Ambience is not that ...        []   \n",
       "3  [('Rated 4.0', \"RATED\\n  Great food and proper...        []   \n",
       "4  [('Rated 4.0', 'RATED\\n  Very good restaurant ...        []   \n",
       "\n",
       "  listed_in(type) listed_in(city)  \n",
       "0          Buffet    Banashankari  \n",
       "1          Buffet    Banashankari  \n",
       "2          Buffet    Banashankari  \n",
       "3          Buffet    Banashankari  \n",
       "4          Buffet    Banashankari  "
      ]
     },
     "execution_count": 148,
     "metadata": {},
     "output_type": "execute_result"
    }
   ],
   "source": [
    "# Reading the data\n",
    "dataset=pd.read_csv('zomato.csv')\n",
    "dataset.head()"
   ]
  },
  {
   "cell_type": "code",
   "execution_count": 149,
   "id": "36dccd8e",
   "metadata": {},
   "outputs": [
    {
     "name": "stdout",
     "output_type": "stream",
     "text": [
      "<class 'pandas.core.frame.DataFrame'>\n",
      "RangeIndex: 51717 entries, 0 to 51716\n",
      "Data columns (total 17 columns):\n",
      " #   Column                       Non-Null Count  Dtype \n",
      "---  ------                       --------------  ----- \n",
      " 0   url                          51717 non-null  object\n",
      " 1   address                      51717 non-null  object\n",
      " 2   name                         51717 non-null  object\n",
      " 3   online_order                 51717 non-null  object\n",
      " 4   book_table                   51717 non-null  object\n",
      " 5   rate                         43942 non-null  object\n",
      " 6   votes                        51717 non-null  int64 \n",
      " 7   phone                        50509 non-null  object\n",
      " 8   location                     51696 non-null  object\n",
      " 9   rest_type                    51490 non-null  object\n",
      " 10  dish_liked                   23639 non-null  object\n",
      " 11  cuisines                     51672 non-null  object\n",
      " 12  approx_cost(for two people)  51371 non-null  object\n",
      " 13  reviews_list                 51717 non-null  object\n",
      " 14  menu_item                    51717 non-null  object\n",
      " 15  listed_in(type)              51717 non-null  object\n",
      " 16  listed_in(city)              51717 non-null  object\n",
      "dtypes: int64(1), object(16)\n",
      "memory usage: 6.7+ MB\n"
     ]
    }
   ],
   "source": [
    "dataset.info()"
   ]
  },
  {
   "cell_type": "code",
   "execution_count": 150,
   "id": "d7c0b9f4",
   "metadata": {},
   "outputs": [
    {
     "data": {
      "text/plain": [
       "url                             0.000000\n",
       "address                         0.000000\n",
       "name                            0.000000\n",
       "online_order                    0.000000\n",
       "book_table                      0.000000\n",
       "rate                           15.033741\n",
       "votes                           0.000000\n",
       "phone                           2.335789\n",
       "location                        0.040606\n",
       "rest_type                       0.438927\n",
       "dish_liked                     54.291626\n",
       "cuisines                        0.087012\n",
       "approx_cost(for two people)     0.669026\n",
       "reviews_list                    0.000000\n",
       "menu_item                       0.000000\n",
       "listed_in(type)                 0.000000\n",
       "listed_in(city)                 0.000000\n",
       "dtype: float64"
      ]
     },
     "execution_count": 150,
     "metadata": {},
     "output_type": "execute_result"
    }
   ],
   "source": [
    "# finding percentage of null values in each column\n",
    "null_var=dataset.isnull().sum()/dataset.shape[0] *100\n",
    "null_var"
   ]
  },
  {
   "cell_type": "markdown",
   "id": "3469ec20",
   "metadata": {},
   "source": [
    "As url, address and phone columns are not needed to solve our problem statement, we can simply drop them.\n",
    "54% of data in dish_liked column is null, half of the data in menu_item has empty list and we can only retrieve rating from review_list which we already have\n",
    "so we will drop these three columns as well.\n",
    "We will also drop location and rest_type as they can be replaced by listed_in(type), listed_in(city) which are in proper standards"
   ]
  },
  {
   "cell_type": "code",
   "execution_count": 151,
   "id": "9099f9b9",
   "metadata": {},
   "outputs": [
    {
     "data": {
      "text/html": [
       "<div>\n",
       "<style scoped>\n",
       "    .dataframe tbody tr th:only-of-type {\n",
       "        vertical-align: middle;\n",
       "    }\n",
       "\n",
       "    .dataframe tbody tr th {\n",
       "        vertical-align: top;\n",
       "    }\n",
       "\n",
       "    .dataframe thead th {\n",
       "        text-align: right;\n",
       "    }\n",
       "</style>\n",
       "<table border=\"1\" class=\"dataframe\">\n",
       "  <thead>\n",
       "    <tr style=\"text-align: right;\">\n",
       "      <th></th>\n",
       "      <th>name</th>\n",
       "      <th>online_order</th>\n",
       "      <th>book_table</th>\n",
       "      <th>rate</th>\n",
       "      <th>votes</th>\n",
       "      <th>cuisines</th>\n",
       "      <th>approx_cost(for two people)</th>\n",
       "      <th>listed_in(type)</th>\n",
       "      <th>listed_in(city)</th>\n",
       "    </tr>\n",
       "  </thead>\n",
       "  <tbody>\n",
       "    <tr>\n",
       "      <th>0</th>\n",
       "      <td>Jalsa</td>\n",
       "      <td>Yes</td>\n",
       "      <td>Yes</td>\n",
       "      <td>4.1/5</td>\n",
       "      <td>775</td>\n",
       "      <td>North Indian, Mughlai, Chinese</td>\n",
       "      <td>800</td>\n",
       "      <td>Buffet</td>\n",
       "      <td>Banashankari</td>\n",
       "    </tr>\n",
       "    <tr>\n",
       "      <th>1</th>\n",
       "      <td>Spice Elephant</td>\n",
       "      <td>Yes</td>\n",
       "      <td>No</td>\n",
       "      <td>4.1/5</td>\n",
       "      <td>787</td>\n",
       "      <td>Chinese, North Indian, Thai</td>\n",
       "      <td>800</td>\n",
       "      <td>Buffet</td>\n",
       "      <td>Banashankari</td>\n",
       "    </tr>\n",
       "    <tr>\n",
       "      <th>2</th>\n",
       "      <td>San Churro Cafe</td>\n",
       "      <td>Yes</td>\n",
       "      <td>No</td>\n",
       "      <td>3.8/5</td>\n",
       "      <td>918</td>\n",
       "      <td>Cafe, Mexican, Italian</td>\n",
       "      <td>800</td>\n",
       "      <td>Buffet</td>\n",
       "      <td>Banashankari</td>\n",
       "    </tr>\n",
       "    <tr>\n",
       "      <th>3</th>\n",
       "      <td>Addhuri Udupi Bhojana</td>\n",
       "      <td>No</td>\n",
       "      <td>No</td>\n",
       "      <td>3.7/5</td>\n",
       "      <td>88</td>\n",
       "      <td>South Indian, North Indian</td>\n",
       "      <td>300</td>\n",
       "      <td>Buffet</td>\n",
       "      <td>Banashankari</td>\n",
       "    </tr>\n",
       "    <tr>\n",
       "      <th>4</th>\n",
       "      <td>Grand Village</td>\n",
       "      <td>No</td>\n",
       "      <td>No</td>\n",
       "      <td>3.8/5</td>\n",
       "      <td>166</td>\n",
       "      <td>North Indian, Rajasthani</td>\n",
       "      <td>600</td>\n",
       "      <td>Buffet</td>\n",
       "      <td>Banashankari</td>\n",
       "    </tr>\n",
       "    <tr>\n",
       "      <th>...</th>\n",
       "      <td>...</td>\n",
       "      <td>...</td>\n",
       "      <td>...</td>\n",
       "      <td>...</td>\n",
       "      <td>...</td>\n",
       "      <td>...</td>\n",
       "      <td>...</td>\n",
       "      <td>...</td>\n",
       "      <td>...</td>\n",
       "    </tr>\n",
       "    <tr>\n",
       "      <th>51712</th>\n",
       "      <td>Best Brews - Four Points by Sheraton Bengaluru...</td>\n",
       "      <td>No</td>\n",
       "      <td>No</td>\n",
       "      <td>3.6 /5</td>\n",
       "      <td>27</td>\n",
       "      <td>Continental</td>\n",
       "      <td>1,500</td>\n",
       "      <td>Pubs and bars</td>\n",
       "      <td>Whitefield</td>\n",
       "    </tr>\n",
       "    <tr>\n",
       "      <th>51713</th>\n",
       "      <td>Vinod Bar And Restaurant</td>\n",
       "      <td>No</td>\n",
       "      <td>No</td>\n",
       "      <td>NaN</td>\n",
       "      <td>0</td>\n",
       "      <td>Finger Food</td>\n",
       "      <td>600</td>\n",
       "      <td>Pubs and bars</td>\n",
       "      <td>Whitefield</td>\n",
       "    </tr>\n",
       "    <tr>\n",
       "      <th>51714</th>\n",
       "      <td>Plunge - Sheraton Grand Bengaluru Whitefield H...</td>\n",
       "      <td>No</td>\n",
       "      <td>No</td>\n",
       "      <td>NaN</td>\n",
       "      <td>0</td>\n",
       "      <td>Finger Food</td>\n",
       "      <td>2,000</td>\n",
       "      <td>Pubs and bars</td>\n",
       "      <td>Whitefield</td>\n",
       "    </tr>\n",
       "    <tr>\n",
       "      <th>51715</th>\n",
       "      <td>Chime - Sheraton Grand Bengaluru Whitefield Ho...</td>\n",
       "      <td>No</td>\n",
       "      <td>Yes</td>\n",
       "      <td>4.3 /5</td>\n",
       "      <td>236</td>\n",
       "      <td>Finger Food</td>\n",
       "      <td>2,500</td>\n",
       "      <td>Pubs and bars</td>\n",
       "      <td>Whitefield</td>\n",
       "    </tr>\n",
       "    <tr>\n",
       "      <th>51716</th>\n",
       "      <td>The Nest - The Den Bengaluru</td>\n",
       "      <td>No</td>\n",
       "      <td>No</td>\n",
       "      <td>3.4 /5</td>\n",
       "      <td>13</td>\n",
       "      <td>Finger Food, North Indian, Continental</td>\n",
       "      <td>1,500</td>\n",
       "      <td>Pubs and bars</td>\n",
       "      <td>Whitefield</td>\n",
       "    </tr>\n",
       "  </tbody>\n",
       "</table>\n",
       "<p>51717 rows × 9 columns</p>\n",
       "</div>"
      ],
      "text/plain": [
       "                                                    name online_order  \\\n",
       "0                                                  Jalsa          Yes   \n",
       "1                                         Spice Elephant          Yes   \n",
       "2                                        San Churro Cafe          Yes   \n",
       "3                                  Addhuri Udupi Bhojana           No   \n",
       "4                                          Grand Village           No   \n",
       "...                                                  ...          ...   \n",
       "51712  Best Brews - Four Points by Sheraton Bengaluru...           No   \n",
       "51713                           Vinod Bar And Restaurant           No   \n",
       "51714  Plunge - Sheraton Grand Bengaluru Whitefield H...           No   \n",
       "51715  Chime - Sheraton Grand Bengaluru Whitefield Ho...           No   \n",
       "51716                       The Nest - The Den Bengaluru           No   \n",
       "\n",
       "      book_table    rate  votes                                cuisines  \\\n",
       "0            Yes   4.1/5    775          North Indian, Mughlai, Chinese   \n",
       "1             No   4.1/5    787             Chinese, North Indian, Thai   \n",
       "2             No   3.8/5    918                  Cafe, Mexican, Italian   \n",
       "3             No   3.7/5     88              South Indian, North Indian   \n",
       "4             No   3.8/5    166                North Indian, Rajasthani   \n",
       "...          ...     ...    ...                                     ...   \n",
       "51712         No  3.6 /5     27                             Continental   \n",
       "51713         No     NaN      0                             Finger Food   \n",
       "51714         No     NaN      0                             Finger Food   \n",
       "51715        Yes  4.3 /5    236                             Finger Food   \n",
       "51716         No  3.4 /5     13  Finger Food, North Indian, Continental   \n",
       "\n",
       "      approx_cost(for two people) listed_in(type) listed_in(city)  \n",
       "0                             800          Buffet    Banashankari  \n",
       "1                             800          Buffet    Banashankari  \n",
       "2                             800          Buffet    Banashankari  \n",
       "3                             300          Buffet    Banashankari  \n",
       "4                             600          Buffet    Banashankari  \n",
       "...                           ...             ...             ...  \n",
       "51712                       1,500   Pubs and bars      Whitefield  \n",
       "51713                         600   Pubs and bars      Whitefield  \n",
       "51714                       2,000   Pubs and bars      Whitefield  \n",
       "51715                       2,500   Pubs and bars      Whitefield  \n",
       "51716                       1,500   Pubs and bars      Whitefield  \n",
       "\n",
       "[51717 rows x 9 columns]"
      ]
     },
     "execution_count": 151,
     "metadata": {},
     "output_type": "execute_result"
    }
   ],
   "source": [
    "# Dropping unwanted columns\n",
    "dataset=dataset.drop(columns=[\"url\",\"address\",\"phone\",\"reviews_list\",\"location\",\"dish_liked\",\"menu_item\",\"rest_type\"])\n",
    "dataset"
   ]
  },
  {
   "cell_type": "code",
   "execution_count": 152,
   "id": "30420691",
   "metadata": {},
   "outputs": [
    {
     "data": {
      "text/html": [
       "<div>\n",
       "<style scoped>\n",
       "    .dataframe tbody tr th:only-of-type {\n",
       "        vertical-align: middle;\n",
       "    }\n",
       "\n",
       "    .dataframe tbody tr th {\n",
       "        vertical-align: top;\n",
       "    }\n",
       "\n",
       "    .dataframe thead th {\n",
       "        text-align: right;\n",
       "    }\n",
       "</style>\n",
       "<table border=\"1\" class=\"dataframe\">\n",
       "  <thead>\n",
       "    <tr style=\"text-align: right;\">\n",
       "      <th></th>\n",
       "      <th>Restaurants</th>\n",
       "      <th>online_order</th>\n",
       "      <th>book_table</th>\n",
       "      <th>Rating</th>\n",
       "      <th>votes</th>\n",
       "      <th>cuisines</th>\n",
       "      <th>Cost</th>\n",
       "      <th>rest_type</th>\n",
       "      <th>City</th>\n",
       "    </tr>\n",
       "  </thead>\n",
       "  <tbody>\n",
       "    <tr>\n",
       "      <th>0</th>\n",
       "      <td>Jalsa</td>\n",
       "      <td>Yes</td>\n",
       "      <td>Yes</td>\n",
       "      <td>4.1/5</td>\n",
       "      <td>775</td>\n",
       "      <td>North Indian, Mughlai, Chinese</td>\n",
       "      <td>800</td>\n",
       "      <td>Buffet</td>\n",
       "      <td>Banashankari</td>\n",
       "    </tr>\n",
       "    <tr>\n",
       "      <th>1</th>\n",
       "      <td>Spice Elephant</td>\n",
       "      <td>Yes</td>\n",
       "      <td>No</td>\n",
       "      <td>4.1/5</td>\n",
       "      <td>787</td>\n",
       "      <td>Chinese, North Indian, Thai</td>\n",
       "      <td>800</td>\n",
       "      <td>Buffet</td>\n",
       "      <td>Banashankari</td>\n",
       "    </tr>\n",
       "    <tr>\n",
       "      <th>2</th>\n",
       "      <td>San Churro Cafe</td>\n",
       "      <td>Yes</td>\n",
       "      <td>No</td>\n",
       "      <td>3.8/5</td>\n",
       "      <td>918</td>\n",
       "      <td>Cafe, Mexican, Italian</td>\n",
       "      <td>800</td>\n",
       "      <td>Buffet</td>\n",
       "      <td>Banashankari</td>\n",
       "    </tr>\n",
       "    <tr>\n",
       "      <th>3</th>\n",
       "      <td>Addhuri Udupi Bhojana</td>\n",
       "      <td>No</td>\n",
       "      <td>No</td>\n",
       "      <td>3.7/5</td>\n",
       "      <td>88</td>\n",
       "      <td>South Indian, North Indian</td>\n",
       "      <td>300</td>\n",
       "      <td>Buffet</td>\n",
       "      <td>Banashankari</td>\n",
       "    </tr>\n",
       "    <tr>\n",
       "      <th>4</th>\n",
       "      <td>Grand Village</td>\n",
       "      <td>No</td>\n",
       "      <td>No</td>\n",
       "      <td>3.8/5</td>\n",
       "      <td>166</td>\n",
       "      <td>North Indian, Rajasthani</td>\n",
       "      <td>600</td>\n",
       "      <td>Buffet</td>\n",
       "      <td>Banashankari</td>\n",
       "    </tr>\n",
       "  </tbody>\n",
       "</table>\n",
       "</div>"
      ],
      "text/plain": [
       "             Restaurants online_order book_table Rating  votes  \\\n",
       "0                  Jalsa          Yes        Yes  4.1/5    775   \n",
       "1         Spice Elephant          Yes         No  4.1/5    787   \n",
       "2        San Churro Cafe          Yes         No  3.8/5    918   \n",
       "3  Addhuri Udupi Bhojana           No         No  3.7/5     88   \n",
       "4          Grand Village           No         No  3.8/5    166   \n",
       "\n",
       "                         cuisines Cost rest_type          City  \n",
       "0  North Indian, Mughlai, Chinese  800    Buffet  Banashankari  \n",
       "1     Chinese, North Indian, Thai  800    Buffet  Banashankari  \n",
       "2          Cafe, Mexican, Italian  800    Buffet  Banashankari  \n",
       "3      South Indian, North Indian  300    Buffet  Banashankari  \n",
       "4        North Indian, Rajasthani  600    Buffet  Banashankari  "
      ]
     },
     "execution_count": 152,
     "metadata": {},
     "output_type": "execute_result"
    }
   ],
   "source": [
    "# Renaming the columns\n",
    "dataset.rename({\"name\":\"Restaurants\",\n",
    "           \"rate\":\"Rating\",\n",
    "           \"approx_cost(for two people)\":\"Cost\",\n",
    "           \"listed_in(type)\":\"rest_type\",\n",
    "           \"listed_in(city)\":\"City\"},inplace=True,axis=1)\n",
    "dataset.head()"
   ]
  },
  {
   "cell_type": "code",
   "execution_count": 153,
   "id": "494ddb11",
   "metadata": {},
   "outputs": [
    {
     "data": {
      "text/plain": [
       "Restaurants        0\n",
       "online_order       0\n",
       "book_table         0\n",
       "Rating          7775\n",
       "votes              0\n",
       "cuisines          45\n",
       "Cost             346\n",
       "rest_type          0\n",
       "City               0\n",
       "dtype: int64"
      ]
     },
     "execution_count": 153,
     "metadata": {},
     "output_type": "execute_result"
    }
   ],
   "source": [
    "dataset.isnull().sum()"
   ]
  },
  {
   "cell_type": "code",
   "execution_count": 154,
   "id": "c07d9d6b",
   "metadata": {},
   "outputs": [],
   "source": [
    "# Dropping Duplicates\n",
    "dataset.drop_duplicates(inplace=True)"
   ]
  },
  {
   "cell_type": "code",
   "execution_count": 155,
   "id": "c1b56d33",
   "metadata": {},
   "outputs": [
    {
     "data": {
      "text/plain": [
       "(51577, 9)"
      ]
     },
     "execution_count": 155,
     "metadata": {},
     "output_type": "execute_result"
    }
   ],
   "source": [
    "dataset.shape "
   ]
  },
  {
   "cell_type": "markdown",
   "id": "f2bea654",
   "metadata": {},
   "source": [
    "Cleaning the data for each column"
   ]
  },
  {
   "cell_type": "code",
   "execution_count": 156,
   "id": "ff7ea811",
   "metadata": {},
   "outputs": [
    {
     "data": {
      "text/plain": [
       "array(['4.1/5', '3.8/5', '3.7/5', '3.6/5', '4.6/5', '4.0/5', '4.2/5',\n",
       "       '3.9/5', '3.1/5', '3.0/5', '3.2/5', '3.3/5', '2.8/5', '4.4/5',\n",
       "       '4.3/5', 'NEW', '2.9/5', '3.5/5', nan, '2.6/5', '3.8 /5', '3.4/5',\n",
       "       '4.5/5', '2.5/5', '2.7/5', '4.7/5', '2.4/5', '2.2/5', '2.3/5',\n",
       "       '3.4 /5', '-', '3.6 /5', '4.8/5', '3.9 /5', '4.2 /5', '4.0 /5',\n",
       "       '4.1 /5', '3.7 /5', '3.1 /5', '2.9 /5', '3.3 /5', '2.8 /5',\n",
       "       '3.5 /5', '2.7 /5', '2.5 /5', '3.2 /5', '2.6 /5', '4.5 /5',\n",
       "       '4.3 /5', '4.4 /5', '4.9/5', '2.1/5', '2.0/5', '1.8/5', '4.6 /5',\n",
       "       '4.9 /5', '3.0 /5', '4.8 /5', '2.3 /5', '4.7 /5', '2.4 /5',\n",
       "       '2.1 /5', '2.2 /5', '2.0 /5', '1.8 /5'], dtype=object)"
      ]
     },
     "execution_count": 156,
     "metadata": {},
     "output_type": "execute_result"
    }
   ],
   "source": [
    "dataset[\"Rating\"].unique()"
   ]
  },
  {
   "cell_type": "code",
   "execution_count": 157,
   "id": "75d87e78",
   "metadata": {},
   "outputs": [
    {
     "data": {
      "text/plain": [
       "0    4.1\n",
       "1    4.1\n",
       "2    3.8\n",
       "3    3.7\n",
       "4    3.8\n",
       "Name: Rating, dtype: float64"
      ]
     },
     "execution_count": 157,
     "metadata": {},
     "output_type": "execute_result"
    }
   ],
   "source": [
    "# Cleaning rate column, removing /5 from data and replacing 'NEW' and '-' with null value\n",
    "def rating(rate):\n",
    "    if rate=='-'or rate=='NEW':\n",
    "        return np.nan\n",
    "    else:\n",
    "        rate =str(rate).split('/')[0]\n",
    "        return float(rate)\n",
    "    \n",
    "dataset[\"Rating\"] = dataset[\"Rating\"].apply(rating)\n",
    "dataset[\"Rating\"].head(5)"
   ]
  },
  {
   "cell_type": "code",
   "execution_count": 158,
   "id": "91bce6d9",
   "metadata": {},
   "outputs": [
    {
     "data": {
      "text/plain": [
       "array(['800', '300', '600', '700', '550', '500', '450', '650', '400',\n",
       "       '900', '200', '750', '150', '850', '100', '1,200', '350', '250',\n",
       "       '950', '1,000', '1,500', '1,300', '199', '80', '1,100', '160',\n",
       "       '1,600', '230', '130', '50', '190', '1,700', nan, '1,400', '180',\n",
       "       '1,350', '2,200', '2,000', '1,800', '1,900', '330', '2,500',\n",
       "       '2,100', '3,000', '2,800', '3,400', '40', '1,250', '3,500',\n",
       "       '4,000', '2,400', '2,600', '120', '1,450', '469', '70', '3,200',\n",
       "       '60', '560', '240', '360', '6,000', '1,050', '2,300', '4,100',\n",
       "       '5,000', '3,700', '1,650', '2,700', '4,500', '140'], dtype=object)"
      ]
     },
     "execution_count": 158,
     "metadata": {},
     "output_type": "execute_result"
    }
   ],
   "source": [
    "dataset[\"Cost\"].unique()"
   ]
  },
  {
   "cell_type": "code",
   "execution_count": 159,
   "id": "83bbbe66",
   "metadata": {},
   "outputs": [
    {
     "data": {
      "text/plain": [
       "0    800.0\n",
       "1    800.0\n",
       "2    800.0\n",
       "3    300.0\n",
       "4    600.0\n",
       "Name: Cost, dtype: float64"
      ]
     },
     "execution_count": 159,
     "metadata": {},
     "output_type": "execute_result"
    }
   ],
   "source": [
    "# Cleaning the cost column\n",
    "def costing(cost):\n",
    "    cost=str(cost)\n",
    "    if \",\" in cost:\n",
    "        cost=cost.replace(\",\",\"\")\n",
    "        return float(cost)\n",
    "    else:\n",
    "        return float(cost) \n",
    "        \n",
    "dataset[\"Cost\"] = dataset[\"Cost\"].apply(costing)\n",
    "dataset[\"Cost\"].head(5)"
   ]
  },
  {
   "cell_type": "code",
   "execution_count": 160,
   "id": "67736de4",
   "metadata": {},
   "outputs": [],
   "source": [
    "# Cleaning the restaurant column\n",
    "dataset['Restaurants'] = dataset['Restaurants'].str.replace('[Ãx][^A-Za-z]+','',regex=True)"
   ]
  },
  {
   "cell_type": "code",
   "execution_count": 161,
   "id": "5c177267",
   "metadata": {},
   "outputs": [
    {
     "data": {
      "text/html": [
       "<div>\n",
       "<style scoped>\n",
       "    .dataframe tbody tr th:only-of-type {\n",
       "        vertical-align: middle;\n",
       "    }\n",
       "\n",
       "    .dataframe tbody tr th {\n",
       "        vertical-align: top;\n",
       "    }\n",
       "\n",
       "    .dataframe thead th {\n",
       "        text-align: right;\n",
       "    }\n",
       "</style>\n",
       "<table border=\"1\" class=\"dataframe\">\n",
       "  <thead>\n",
       "    <tr style=\"text-align: right;\">\n",
       "      <th></th>\n",
       "      <th>Restaurants</th>\n",
       "      <th>online_order</th>\n",
       "      <th>book_table</th>\n",
       "      <th>Rating</th>\n",
       "      <th>votes</th>\n",
       "      <th>cuisines</th>\n",
       "      <th>Cost</th>\n",
       "      <th>rest_type</th>\n",
       "      <th>City</th>\n",
       "    </tr>\n",
       "  </thead>\n",
       "  <tbody>\n",
       "    <tr>\n",
       "      <th>0</th>\n",
       "      <td>Jalsa</td>\n",
       "      <td>Yes</td>\n",
       "      <td>Yes</td>\n",
       "      <td>4.1</td>\n",
       "      <td>775</td>\n",
       "      <td>North Indian, Mughlai, Chinese</td>\n",
       "      <td>800.0</td>\n",
       "      <td>Buffet</td>\n",
       "      <td>Banashankari</td>\n",
       "    </tr>\n",
       "    <tr>\n",
       "      <th>1</th>\n",
       "      <td>Spice Elephant</td>\n",
       "      <td>Yes</td>\n",
       "      <td>No</td>\n",
       "      <td>4.1</td>\n",
       "      <td>787</td>\n",
       "      <td>Chinese, North Indian, Thai</td>\n",
       "      <td>800.0</td>\n",
       "      <td>Buffet</td>\n",
       "      <td>Banashankari</td>\n",
       "    </tr>\n",
       "    <tr>\n",
       "      <th>2</th>\n",
       "      <td>San Churro Cafe</td>\n",
       "      <td>Yes</td>\n",
       "      <td>No</td>\n",
       "      <td>3.8</td>\n",
       "      <td>918</td>\n",
       "      <td>Cafe, Mexican, Italian</td>\n",
       "      <td>800.0</td>\n",
       "      <td>Buffet</td>\n",
       "      <td>Banashankari</td>\n",
       "    </tr>\n",
       "    <tr>\n",
       "      <th>3</th>\n",
       "      <td>Addhuri Udupi Bhojana</td>\n",
       "      <td>No</td>\n",
       "      <td>No</td>\n",
       "      <td>3.7</td>\n",
       "      <td>88</td>\n",
       "      <td>South Indian, North Indian</td>\n",
       "      <td>300.0</td>\n",
       "      <td>Buffet</td>\n",
       "      <td>Banashankari</td>\n",
       "    </tr>\n",
       "    <tr>\n",
       "      <th>4</th>\n",
       "      <td>Grand Village</td>\n",
       "      <td>No</td>\n",
       "      <td>No</td>\n",
       "      <td>3.8</td>\n",
       "      <td>166</td>\n",
       "      <td>North Indian, Rajasthani</td>\n",
       "      <td>600.0</td>\n",
       "      <td>Buffet</td>\n",
       "      <td>Banashankari</td>\n",
       "    </tr>\n",
       "    <tr>\n",
       "      <th>...</th>\n",
       "      <td>...</td>\n",
       "      <td>...</td>\n",
       "      <td>...</td>\n",
       "      <td>...</td>\n",
       "      <td>...</td>\n",
       "      <td>...</td>\n",
       "      <td>...</td>\n",
       "      <td>...</td>\n",
       "      <td>...</td>\n",
       "    </tr>\n",
       "    <tr>\n",
       "      <th>51712</th>\n",
       "      <td>Best Brews - Four Points by Sheraton Bengaluru...</td>\n",
       "      <td>No</td>\n",
       "      <td>No</td>\n",
       "      <td>3.6</td>\n",
       "      <td>27</td>\n",
       "      <td>Continental</td>\n",
       "      <td>1500.0</td>\n",
       "      <td>Pubs and bars</td>\n",
       "      <td>Whitefield</td>\n",
       "    </tr>\n",
       "    <tr>\n",
       "      <th>51713</th>\n",
       "      <td>Vinod Bar And Restaurant</td>\n",
       "      <td>No</td>\n",
       "      <td>No</td>\n",
       "      <td>NaN</td>\n",
       "      <td>0</td>\n",
       "      <td>Finger Food</td>\n",
       "      <td>600.0</td>\n",
       "      <td>Pubs and bars</td>\n",
       "      <td>Whitefield</td>\n",
       "    </tr>\n",
       "    <tr>\n",
       "      <th>51714</th>\n",
       "      <td>Plunge - Sheraton Grand Bengaluru Whitefield H...</td>\n",
       "      <td>No</td>\n",
       "      <td>No</td>\n",
       "      <td>NaN</td>\n",
       "      <td>0</td>\n",
       "      <td>Finger Food</td>\n",
       "      <td>2000.0</td>\n",
       "      <td>Pubs and bars</td>\n",
       "      <td>Whitefield</td>\n",
       "    </tr>\n",
       "    <tr>\n",
       "      <th>51715</th>\n",
       "      <td>Chime - Sheraton Grand Bengaluru Whitefield Ho...</td>\n",
       "      <td>No</td>\n",
       "      <td>Yes</td>\n",
       "      <td>4.3</td>\n",
       "      <td>236</td>\n",
       "      <td>Finger Food</td>\n",
       "      <td>2500.0</td>\n",
       "      <td>Pubs and bars</td>\n",
       "      <td>Whitefield</td>\n",
       "    </tr>\n",
       "    <tr>\n",
       "      <th>51716</th>\n",
       "      <td>The Nest - The Den Bengaluru</td>\n",
       "      <td>No</td>\n",
       "      <td>No</td>\n",
       "      <td>3.4</td>\n",
       "      <td>13</td>\n",
       "      <td>Finger Food, North Indian, Continental</td>\n",
       "      <td>1500.0</td>\n",
       "      <td>Pubs and bars</td>\n",
       "      <td>Whitefield</td>\n",
       "    </tr>\n",
       "  </tbody>\n",
       "</table>\n",
       "<p>51577 rows × 9 columns</p>\n",
       "</div>"
      ],
      "text/plain": [
       "                                             Restaurants online_order  \\\n",
       "0                                                  Jalsa          Yes   \n",
       "1                                         Spice Elephant          Yes   \n",
       "2                                        San Churro Cafe          Yes   \n",
       "3                                  Addhuri Udupi Bhojana           No   \n",
       "4                                          Grand Village           No   \n",
       "...                                                  ...          ...   \n",
       "51712  Best Brews - Four Points by Sheraton Bengaluru...           No   \n",
       "51713                           Vinod Bar And Restaurant           No   \n",
       "51714  Plunge - Sheraton Grand Bengaluru Whitefield H...           No   \n",
       "51715  Chime - Sheraton Grand Bengaluru Whitefield Ho...           No   \n",
       "51716                       The Nest - The Den Bengaluru           No   \n",
       "\n",
       "      book_table  Rating  votes                                cuisines  \\\n",
       "0            Yes     4.1    775          North Indian, Mughlai, Chinese   \n",
       "1             No     4.1    787             Chinese, North Indian, Thai   \n",
       "2             No     3.8    918                  Cafe, Mexican, Italian   \n",
       "3             No     3.7     88              South Indian, North Indian   \n",
       "4             No     3.8    166                North Indian, Rajasthani   \n",
       "...          ...     ...    ...                                     ...   \n",
       "51712         No     3.6     27                             Continental   \n",
       "51713         No     NaN      0                             Finger Food   \n",
       "51714         No     NaN      0                             Finger Food   \n",
       "51715        Yes     4.3    236                             Finger Food   \n",
       "51716         No     3.4     13  Finger Food, North Indian, Continental   \n",
       "\n",
       "         Cost      rest_type          City  \n",
       "0       800.0         Buffet  Banashankari  \n",
       "1       800.0         Buffet  Banashankari  \n",
       "2       800.0         Buffet  Banashankari  \n",
       "3       300.0         Buffet  Banashankari  \n",
       "4       600.0         Buffet  Banashankari  \n",
       "...       ...            ...           ...  \n",
       "51712  1500.0  Pubs and bars    Whitefield  \n",
       "51713   600.0  Pubs and bars    Whitefield  \n",
       "51714  2000.0  Pubs and bars    Whitefield  \n",
       "51715  2500.0  Pubs and bars    Whitefield  \n",
       "51716  1500.0  Pubs and bars    Whitefield  \n",
       "\n",
       "[51577 rows x 9 columns]"
      ]
     },
     "execution_count": 161,
     "metadata": {},
     "output_type": "execute_result"
    }
   ],
   "source": [
    "dataset"
   ]
  },
  {
   "cell_type": "code",
   "execution_count": 162,
   "id": "dc445b20",
   "metadata": {},
   "outputs": [
    {
     "data": {
      "text/plain": [
       "Restaurants        0\n",
       "online_order       0\n",
       "book_table         0\n",
       "Rating          9987\n",
       "votes              0\n",
       "cuisines          45\n",
       "Cost             344\n",
       "rest_type          0\n",
       "City               0\n",
       "dtype: int64"
      ]
     },
     "execution_count": 162,
     "metadata": {},
     "output_type": "execute_result"
    }
   ],
   "source": [
    "dataset.isnull().sum()"
   ]
  },
  {
   "cell_type": "markdown",
   "id": "ab5e93fb",
   "metadata": {},
   "source": [
    "We can drop the null values instead of imputing because the number is small"
   ]
  },
  {
   "cell_type": "code",
   "execution_count": 163,
   "id": "8a8a8cb8",
   "metadata": {},
   "outputs": [],
   "source": [
    "dataset.dropna(inplace=True)"
   ]
  },
  {
   "cell_type": "code",
   "execution_count": 164,
   "id": "73ca558f",
   "metadata": {},
   "outputs": [
    {
     "data": {
      "text/plain": [
       "Restaurants     0\n",
       "online_order    0\n",
       "book_table      0\n",
       "Rating          0\n",
       "votes           0\n",
       "cuisines        0\n",
       "Cost            0\n",
       "rest_type       0\n",
       "City            0\n",
       "dtype: int64"
      ]
     },
     "execution_count": 164,
     "metadata": {},
     "output_type": "execute_result"
    }
   ],
   "source": [
    "dataset.isnull().sum()"
   ]
  },
  {
   "cell_type": "markdown",
   "id": "8555cdf8",
   "metadata": {},
   "source": [
    "Our data is now cleaned, lets see how many records are left"
   ]
  },
  {
   "cell_type": "code",
   "execution_count": 165,
   "id": "2cb47c53",
   "metadata": {},
   "outputs": [
    {
     "data": {
      "text/plain": [
       "(41337, 9)"
      ]
     },
     "execution_count": 165,
     "metadata": {},
     "output_type": "execute_result"
    }
   ],
   "source": [
    "dataset.shape"
   ]
  },
  {
   "cell_type": "markdown",
   "id": "aed9ab2b",
   "metadata": {},
   "source": [
    "We haven't lost much data so we can proceed further with it"
   ]
  },
  {
   "cell_type": "code",
   "execution_count": 166,
   "id": "fa691963",
   "metadata": {},
   "outputs": [],
   "source": [
    "# Saving the final dataset to excel\n",
    "dataset.to_excel(\"zomatoclean_final.xlsx\")"
   ]
  },
  {
   "cell_type": "markdown",
   "id": "3931fea2",
   "metadata": {},
   "source": [
    "# Model Training and Evaluation"
   ]
  },
  {
   "cell_type": "code",
   "execution_count": 167,
   "id": "fc619bc8",
   "metadata": {},
   "outputs": [
    {
     "data": {
      "text/html": [
       "<div>\n",
       "<style scoped>\n",
       "    .dataframe tbody tr th:only-of-type {\n",
       "        vertical-align: middle;\n",
       "    }\n",
       "\n",
       "    .dataframe tbody tr th {\n",
       "        vertical-align: top;\n",
       "    }\n",
       "\n",
       "    .dataframe thead th {\n",
       "        text-align: right;\n",
       "    }\n",
       "</style>\n",
       "<table border=\"1\" class=\"dataframe\">\n",
       "  <thead>\n",
       "    <tr style=\"text-align: right;\">\n",
       "      <th></th>\n",
       "      <th>Restaurants</th>\n",
       "      <th>online_order</th>\n",
       "      <th>book_table</th>\n",
       "      <th>Rating</th>\n",
       "      <th>votes</th>\n",
       "      <th>cuisines</th>\n",
       "      <th>Cost</th>\n",
       "      <th>rest_type</th>\n",
       "      <th>City</th>\n",
       "    </tr>\n",
       "  </thead>\n",
       "  <tbody>\n",
       "    <tr>\n",
       "      <th>0</th>\n",
       "      <td>Jalsa</td>\n",
       "      <td>Yes</td>\n",
       "      <td>Yes</td>\n",
       "      <td>4.1</td>\n",
       "      <td>775</td>\n",
       "      <td>North Indian, Mughlai, Chinese</td>\n",
       "      <td>800</td>\n",
       "      <td>Buffet</td>\n",
       "      <td>Banashankari</td>\n",
       "    </tr>\n",
       "    <tr>\n",
       "      <th>1</th>\n",
       "      <td>Spice Elephant</td>\n",
       "      <td>Yes</td>\n",
       "      <td>No</td>\n",
       "      <td>4.1</td>\n",
       "      <td>787</td>\n",
       "      <td>Chinese, North Indian, Thai</td>\n",
       "      <td>800</td>\n",
       "      <td>Buffet</td>\n",
       "      <td>Banashankari</td>\n",
       "    </tr>\n",
       "    <tr>\n",
       "      <th>2</th>\n",
       "      <td>San Churro Cafe</td>\n",
       "      <td>Yes</td>\n",
       "      <td>No</td>\n",
       "      <td>3.8</td>\n",
       "      <td>918</td>\n",
       "      <td>Cafe, Mexican, Italian</td>\n",
       "      <td>800</td>\n",
       "      <td>Buffet</td>\n",
       "      <td>Banashankari</td>\n",
       "    </tr>\n",
       "    <tr>\n",
       "      <th>3</th>\n",
       "      <td>Addhuri Udupi Bhojana</td>\n",
       "      <td>No</td>\n",
       "      <td>No</td>\n",
       "      <td>3.7</td>\n",
       "      <td>88</td>\n",
       "      <td>South Indian, North Indian</td>\n",
       "      <td>300</td>\n",
       "      <td>Buffet</td>\n",
       "      <td>Banashankari</td>\n",
       "    </tr>\n",
       "    <tr>\n",
       "      <th>4</th>\n",
       "      <td>Grand Village</td>\n",
       "      <td>No</td>\n",
       "      <td>No</td>\n",
       "      <td>3.8</td>\n",
       "      <td>166</td>\n",
       "      <td>North Indian, Rajasthani</td>\n",
       "      <td>600</td>\n",
       "      <td>Buffet</td>\n",
       "      <td>Banashankari</td>\n",
       "    </tr>\n",
       "    <tr>\n",
       "      <th>...</th>\n",
       "      <td>...</td>\n",
       "      <td>...</td>\n",
       "      <td>...</td>\n",
       "      <td>...</td>\n",
       "      <td>...</td>\n",
       "      <td>...</td>\n",
       "      <td>...</td>\n",
       "      <td>...</td>\n",
       "      <td>...</td>\n",
       "    </tr>\n",
       "    <tr>\n",
       "      <th>51709</th>\n",
       "      <td>The Farm House Bar n Grill</td>\n",
       "      <td>No</td>\n",
       "      <td>No</td>\n",
       "      <td>3.7</td>\n",
       "      <td>34</td>\n",
       "      <td>North Indian, Continental</td>\n",
       "      <td>800</td>\n",
       "      <td>Pubs and bars</td>\n",
       "      <td>Whitefield</td>\n",
       "    </tr>\n",
       "    <tr>\n",
       "      <th>51711</th>\n",
       "      <td>Bhagini</td>\n",
       "      <td>No</td>\n",
       "      <td>No</td>\n",
       "      <td>2.5</td>\n",
       "      <td>81</td>\n",
       "      <td>Andhra, South Indian, Chinese, North Indian</td>\n",
       "      <td>800</td>\n",
       "      <td>Pubs and bars</td>\n",
       "      <td>Whitefield</td>\n",
       "    </tr>\n",
       "    <tr>\n",
       "      <th>51712</th>\n",
       "      <td>Best Brews - Four Points by Sheraton Bengaluru...</td>\n",
       "      <td>No</td>\n",
       "      <td>No</td>\n",
       "      <td>3.6</td>\n",
       "      <td>27</td>\n",
       "      <td>Continental</td>\n",
       "      <td>1500</td>\n",
       "      <td>Pubs and bars</td>\n",
       "      <td>Whitefield</td>\n",
       "    </tr>\n",
       "    <tr>\n",
       "      <th>51715</th>\n",
       "      <td>Chime - Sheraton Grand Bengaluru Whitefield Ho...</td>\n",
       "      <td>No</td>\n",
       "      <td>Yes</td>\n",
       "      <td>4.3</td>\n",
       "      <td>236</td>\n",
       "      <td>Finger Food</td>\n",
       "      <td>2500</td>\n",
       "      <td>Pubs and bars</td>\n",
       "      <td>Whitefield</td>\n",
       "    </tr>\n",
       "    <tr>\n",
       "      <th>51716</th>\n",
       "      <td>The Nest - The Den Bengaluru</td>\n",
       "      <td>No</td>\n",
       "      <td>No</td>\n",
       "      <td>3.4</td>\n",
       "      <td>13</td>\n",
       "      <td>Finger Food, North Indian, Continental</td>\n",
       "      <td>1500</td>\n",
       "      <td>Pubs and bars</td>\n",
       "      <td>Whitefield</td>\n",
       "    </tr>\n",
       "  </tbody>\n",
       "</table>\n",
       "<p>41337 rows × 9 columns</p>\n",
       "</div>"
      ],
      "text/plain": [
       "                                             Restaurants online_order  \\\n",
       "0                                                  Jalsa          Yes   \n",
       "1                                         Spice Elephant          Yes   \n",
       "2                                        San Churro Cafe          Yes   \n",
       "3                                  Addhuri Udupi Bhojana           No   \n",
       "4                                          Grand Village           No   \n",
       "...                                                  ...          ...   \n",
       "51709                         The Farm House Bar n Grill           No   \n",
       "51711                                            Bhagini           No   \n",
       "51712  Best Brews - Four Points by Sheraton Bengaluru...           No   \n",
       "51715  Chime - Sheraton Grand Bengaluru Whitefield Ho...           No   \n",
       "51716                       The Nest - The Den Bengaluru           No   \n",
       "\n",
       "      book_table  Rating  votes                                     cuisines  \\\n",
       "0            Yes     4.1    775               North Indian, Mughlai, Chinese   \n",
       "1             No     4.1    787                  Chinese, North Indian, Thai   \n",
       "2             No     3.8    918                       Cafe, Mexican, Italian   \n",
       "3             No     3.7     88                   South Indian, North Indian   \n",
       "4             No     3.8    166                     North Indian, Rajasthani   \n",
       "...          ...     ...    ...                                          ...   \n",
       "51709         No     3.7     34                    North Indian, Continental   \n",
       "51711         No     2.5     81  Andhra, South Indian, Chinese, North Indian   \n",
       "51712         No     3.6     27                                  Continental   \n",
       "51715        Yes     4.3    236                                  Finger Food   \n",
       "51716         No     3.4     13       Finger Food, North Indian, Continental   \n",
       "\n",
       "       Cost      rest_type          City  \n",
       "0       800         Buffet  Banashankari  \n",
       "1       800         Buffet  Banashankari  \n",
       "2       800         Buffet  Banashankari  \n",
       "3       300         Buffet  Banashankari  \n",
       "4       600         Buffet  Banashankari  \n",
       "...     ...            ...           ...  \n",
       "51709   800  Pubs and bars    Whitefield  \n",
       "51711   800  Pubs and bars    Whitefield  \n",
       "51712  1500  Pubs and bars    Whitefield  \n",
       "51715  2500  Pubs and bars    Whitefield  \n",
       "51716  1500  Pubs and bars    Whitefield  \n",
       "\n",
       "[41337 rows x 9 columns]"
      ]
     },
     "execution_count": 167,
     "metadata": {},
     "output_type": "execute_result"
    }
   ],
   "source": [
    "# Reading the cleaned data\n",
    "dataset = pd.read_excel(\"zomatoclean_final.xlsx\",index_col=0)\n",
    "dataset"
   ]
  },
  {
   "cell_type": "markdown",
   "id": "30c84ae9",
   "metadata": {},
   "source": [
    "Prepaing data for model training"
   ]
  },
  {
   "cell_type": "code",
   "execution_count": 168,
   "id": "b3dd6d98",
   "metadata": {},
   "outputs": [],
   "source": [
    "training_data = dataset.copy()"
   ]
  },
  {
   "cell_type": "code",
   "execution_count": 169,
   "id": "03732e91",
   "metadata": {},
   "outputs": [],
   "source": [
    "from sklearn.preprocessing import LabelEncoder"
   ]
  },
  {
   "cell_type": "code",
   "execution_count": 170,
   "id": "d582b58a",
   "metadata": {},
   "outputs": [],
   "source": [
    "# Encoding book_table column\n",
    "encoder_book_table = LabelEncoder()\n",
    "training_data.book_table = encoder_book_table.fit_transform(training_data.book_table)"
   ]
  },
  {
   "cell_type": "code",
   "execution_count": 171,
   "id": "0c3e364c",
   "metadata": {},
   "outputs": [],
   "source": [
    "# Encoding online_order column\n",
    "encoder_online_order = LabelEncoder()\n",
    "training_data.online_order = encoder_online_order.fit_transform(training_data.online_order)"
   ]
  },
  {
   "cell_type": "code",
   "execution_count": 172,
   "id": "51b6b3bd",
   "metadata": {},
   "outputs": [],
   "source": [
    "# Encoding cuisines column\n",
    "encoder_cuisines = LabelEncoder()\n",
    "training_data.cuisines = encoder_cuisines.fit_transform(training_data.cuisines)"
   ]
  },
  {
   "cell_type": "code",
   "execution_count": 173,
   "id": "7ac7694e",
   "metadata": {},
   "outputs": [],
   "source": [
    "# Encoding rest_type column\n",
    "encoder_rest_type = LabelEncoder()\n",
    "training_data.rest_type = encoder_rest_type.fit_transform(training_data.rest_type)"
   ]
  },
  {
   "cell_type": "code",
   "execution_count": 174,
   "id": "0df4456d",
   "metadata": {},
   "outputs": [],
   "source": [
    "# Encoding city column\n",
    "encoder_city = LabelEncoder()\n",
    "training_data.City = encoder_city.fit_transform(training_data.City)"
   ]
  },
  {
   "cell_type": "code",
   "execution_count": 175,
   "id": "d370cd7d",
   "metadata": {},
   "outputs": [
    {
     "data": {
      "text/html": [
       "<div>\n",
       "<style scoped>\n",
       "    .dataframe tbody tr th:only-of-type {\n",
       "        vertical-align: middle;\n",
       "    }\n",
       "\n",
       "    .dataframe tbody tr th {\n",
       "        vertical-align: top;\n",
       "    }\n",
       "\n",
       "    .dataframe thead th {\n",
       "        text-align: right;\n",
       "    }\n",
       "</style>\n",
       "<table border=\"1\" class=\"dataframe\">\n",
       "  <thead>\n",
       "    <tr style=\"text-align: right;\">\n",
       "      <th></th>\n",
       "      <th>Restaurants</th>\n",
       "      <th>online_order</th>\n",
       "      <th>book_table</th>\n",
       "      <th>Rating</th>\n",
       "      <th>votes</th>\n",
       "      <th>cuisines</th>\n",
       "      <th>Cost</th>\n",
       "      <th>rest_type</th>\n",
       "      <th>City</th>\n",
       "    </tr>\n",
       "  </thead>\n",
       "  <tbody>\n",
       "    <tr>\n",
       "      <th>0</th>\n",
       "      <td>Jalsa</td>\n",
       "      <td>1</td>\n",
       "      <td>1</td>\n",
       "      <td>4.1</td>\n",
       "      <td>775</td>\n",
       "      <td>1901</td>\n",
       "      <td>800</td>\n",
       "      <td>0</td>\n",
       "      <td>1</td>\n",
       "    </tr>\n",
       "    <tr>\n",
       "      <th>1</th>\n",
       "      <td>Spice Elephant</td>\n",
       "      <td>1</td>\n",
       "      <td>0</td>\n",
       "      <td>4.1</td>\n",
       "      <td>787</td>\n",
       "      <td>817</td>\n",
       "      <td>800</td>\n",
       "      <td>0</td>\n",
       "      <td>1</td>\n",
       "    </tr>\n",
       "    <tr>\n",
       "      <th>2</th>\n",
       "      <td>San Churro Cafe</td>\n",
       "      <td>1</td>\n",
       "      <td>0</td>\n",
       "      <td>3.8</td>\n",
       "      <td>918</td>\n",
       "      <td>654</td>\n",
       "      <td>800</td>\n",
       "      <td>0</td>\n",
       "      <td>1</td>\n",
       "    </tr>\n",
       "    <tr>\n",
       "      <th>3</th>\n",
       "      <td>Addhuri Udupi Bhojana</td>\n",
       "      <td>0</td>\n",
       "      <td>0</td>\n",
       "      <td>3.7</td>\n",
       "      <td>88</td>\n",
       "      <td>2229</td>\n",
       "      <td>300</td>\n",
       "      <td>0</td>\n",
       "      <td>1</td>\n",
       "    </tr>\n",
       "    <tr>\n",
       "      <th>4</th>\n",
       "      <td>Grand Village</td>\n",
       "      <td>0</td>\n",
       "      <td>0</td>\n",
       "      <td>3.8</td>\n",
       "      <td>166</td>\n",
       "      <td>1928</td>\n",
       "      <td>600</td>\n",
       "      <td>0</td>\n",
       "      <td>1</td>\n",
       "    </tr>\n",
       "    <tr>\n",
       "      <th>...</th>\n",
       "      <td>...</td>\n",
       "      <td>...</td>\n",
       "      <td>...</td>\n",
       "      <td>...</td>\n",
       "      <td>...</td>\n",
       "      <td>...</td>\n",
       "      <td>...</td>\n",
       "      <td>...</td>\n",
       "      <td>...</td>\n",
       "    </tr>\n",
       "    <tr>\n",
       "      <th>51709</th>\n",
       "      <td>The Farm House Bar n Grill</td>\n",
       "      <td>0</td>\n",
       "      <td>0</td>\n",
       "      <td>3.7</td>\n",
       "      <td>34</td>\n",
       "      <td>1792</td>\n",
       "      <td>800</td>\n",
       "      <td>6</td>\n",
       "      <td>29</td>\n",
       "    </tr>\n",
       "    <tr>\n",
       "      <th>51711</th>\n",
       "      <td>Bhagini</td>\n",
       "      <td>0</td>\n",
       "      <td>0</td>\n",
       "      <td>2.5</td>\n",
       "      <td>81</td>\n",
       "      <td>101</td>\n",
       "      <td>800</td>\n",
       "      <td>6</td>\n",
       "      <td>29</td>\n",
       "    </tr>\n",
       "    <tr>\n",
       "      <th>51712</th>\n",
       "      <td>Best Brews - Four Points by Sheraton Bengaluru...</td>\n",
       "      <td>0</td>\n",
       "      <td>0</td>\n",
       "      <td>3.6</td>\n",
       "      <td>27</td>\n",
       "      <td>867</td>\n",
       "      <td>1500</td>\n",
       "      <td>6</td>\n",
       "      <td>29</td>\n",
       "    </tr>\n",
       "    <tr>\n",
       "      <th>51715</th>\n",
       "      <td>Chime - Sheraton Grand Bengaluru Whitefield Ho...</td>\n",
       "      <td>0</td>\n",
       "      <td>1</td>\n",
       "      <td>4.3</td>\n",
       "      <td>236</td>\n",
       "      <td>1209</td>\n",
       "      <td>2500</td>\n",
       "      <td>6</td>\n",
       "      <td>29</td>\n",
       "    </tr>\n",
       "    <tr>\n",
       "      <th>51716</th>\n",
       "      <td>The Nest - The Den Bengaluru</td>\n",
       "      <td>0</td>\n",
       "      <td>0</td>\n",
       "      <td>3.4</td>\n",
       "      <td>13</td>\n",
       "      <td>1233</td>\n",
       "      <td>1500</td>\n",
       "      <td>6</td>\n",
       "      <td>29</td>\n",
       "    </tr>\n",
       "  </tbody>\n",
       "</table>\n",
       "<p>41337 rows × 9 columns</p>\n",
       "</div>"
      ],
      "text/plain": [
       "                                             Restaurants  online_order  \\\n",
       "0                                                  Jalsa             1   \n",
       "1                                         Spice Elephant             1   \n",
       "2                                        San Churro Cafe             1   \n",
       "3                                  Addhuri Udupi Bhojana             0   \n",
       "4                                          Grand Village             0   \n",
       "...                                                  ...           ...   \n",
       "51709                         The Farm House Bar n Grill             0   \n",
       "51711                                            Bhagini             0   \n",
       "51712  Best Brews - Four Points by Sheraton Bengaluru...             0   \n",
       "51715  Chime - Sheraton Grand Bengaluru Whitefield Ho...             0   \n",
       "51716                       The Nest - The Den Bengaluru             0   \n",
       "\n",
       "       book_table  Rating  votes  cuisines  Cost  rest_type  City  \n",
       "0               1     4.1    775      1901   800          0     1  \n",
       "1               0     4.1    787       817   800          0     1  \n",
       "2               0     3.8    918       654   800          0     1  \n",
       "3               0     3.7     88      2229   300          0     1  \n",
       "4               0     3.8    166      1928   600          0     1  \n",
       "...           ...     ...    ...       ...   ...        ...   ...  \n",
       "51709           0     3.7     34      1792   800          6    29  \n",
       "51711           0     2.5     81       101   800          6    29  \n",
       "51712           0     3.6     27       867  1500          6    29  \n",
       "51715           1     4.3    236      1209  2500          6    29  \n",
       "51716           0     3.4     13      1233  1500          6    29  \n",
       "\n",
       "[41337 rows x 9 columns]"
      ]
     },
     "execution_count": 175,
     "metadata": {},
     "output_type": "execute_result"
    }
   ],
   "source": [
    "# Reading the encoded data\n",
    "training_data"
   ]
  },
  {
   "cell_type": "markdown",
   "id": "6a68de74",
   "metadata": {},
   "source": [
    "We don't need Restaurants column for training purpose so we can drop it"
   ]
  },
  {
   "cell_type": "code",
   "execution_count": 176,
   "id": "d45d11a0",
   "metadata": {},
   "outputs": [],
   "source": [
    "# Dropping restaurant column\n",
    "training_data.drop(columns=[\"Restaurants\"],inplace=True)"
   ]
  },
  {
   "cell_type": "code",
   "execution_count": 177,
   "id": "a68d738f",
   "metadata": {},
   "outputs": [
    {
     "data": {
      "text/plain": [
       "<AxesSubplot:>"
      ]
     },
     "execution_count": 177,
     "metadata": {},
     "output_type": "execute_result"
    },
    {
     "data": {
      "image/png": "[encoded data removed]",
      "text/plain": [
       "<Figure size 640x480 with 2 Axes>"
      ]
     },
     "metadata": {},
     "output_type": "display_data"
    }
   ],
   "source": [
    "# Visualizing heatmap to find coorelation\n",
    "sns.heatmap(training_data.corr())"
   ]
  },
  {
   "cell_type": "markdown",
   "id": "4b555fa3",
   "metadata": {},
   "source": [
    "Splitting Training and Test Data"
   ]
  },
  {
   "cell_type": "code",
   "execution_count": 178,
   "id": "04befe36",
   "metadata": {},
   "outputs": [],
   "source": [
    "from sklearn.model_selection import train_test_split"
   ]
  },
  {
   "cell_type": "code",
   "execution_count": 179,
   "id": "27694fa4",
   "metadata": {},
   "outputs": [
    {
     "data": {
      "text/plain": [
       "Index(['online_order', 'book_table', 'Rating', 'votes', 'cuisines', 'Cost',\n",
       "       'rest_type', 'City'],\n",
       "      dtype='object')"
      ]
     },
     "execution_count": 179,
     "metadata": {},
     "output_type": "execute_result"
    }
   ],
   "source": [
    "training_data.columns"
   ]
  },
  {
   "cell_type": "code",
   "execution_count": 180,
   "id": "5d75ce50",
   "metadata": {},
   "outputs": [],
   "source": [
    "# Independent Variales\n",
    "features = training_data.drop(columns = [\"Rating\"])"
   ]
  },
  {
   "cell_type": "code",
   "execution_count": 181,
   "id": "119bce16",
   "metadata": {},
   "outputs": [],
   "source": [
    "# Dependent Variable\n",
    "target = training_data[\"Rating\"]"
   ]
  },
  {
   "cell_type": "code",
   "execution_count": 182,
   "id": "9cebb46a",
   "metadata": {},
   "outputs": [],
   "source": [
    "# Splitting training and test data\n",
    "X_train, X_test, y_train, y_test = train_test_split(features,target,test_size=0.1,random_state=10)"
   ]
  },
  {
   "cell_type": "code",
   "execution_count": 183,
   "id": "01815776",
   "metadata": {},
   "outputs": [
    {
     "data": {
      "text/plain": [
       "[37203, 4134, 37203, 4134]"
      ]
     },
     "execution_count": 183,
     "metadata": {},
     "output_type": "execute_result"
    }
   ],
   "source": [
    "# finding length of train and test data\n",
    "[len(x) for x in [X_train, X_test, y_train, y_test]]"
   ]
  },
  {
   "cell_type": "markdown",
   "id": "e4ea8f9c",
   "metadata": {},
   "source": [
    "Training and Testing with XGBoost Model"
   ]
  },
  {
   "cell_type": "code",
   "execution_count": 184,
   "id": "d71f34b9",
   "metadata": {},
   "outputs": [],
   "source": [
    "from sklearn.metrics import r2_score,mean_squared_error\n",
    "import xgboost as xg"
   ]
  },
  {
   "cell_type": "code",
   "execution_count": 185,
   "id": "b4d0d706",
   "metadata": {},
   "outputs": [],
   "source": [
    "XG_Model = xg.XGBRegressor(objective ='reg:squarederror',n_estimators = 120, seed = 123)  "
   ]
  },
  {
   "cell_type": "code",
   "execution_count": 186,
   "id": "3651ba9c",
   "metadata": {},
   "outputs": [
    {
     "data": {
      "text/html": [
       "<style>#sk-container-id-6 {color: black;background-color: white;}#sk-container-id-6 pre{padding: 0;}#sk-container-id-6 div.sk-toggleable {background-color: white;}#sk-container-id-6 label.sk-toggleable__label {cursor: pointer;display: block;width: 100%;margin-bottom: 0;padding: 0.3em;box-sizing: border-box;text-align: center;}#sk-container-id-6 label.sk-toggleable__label-arrow:before {content: \"▸\";float: left;margin-right: 0.25em;color: #696969;}#sk-container-id-6 label.sk-toggleable__label-arrow:hover:before {color: black;}#sk-container-id-6 div.sk-estimator:hover label.sk-toggleable__label-arrow:before {color: black;}#sk-container-id-6 div.sk-toggleable__content {max-height: 0;max-width: 0;overflow: hidden;text-align: left;background-color: #f0f8ff;}#sk-container-id-6 div.sk-toggleable__content pre {margin: 0.2em;color: black;border-radius: 0.25em;background-color: #f0f8ff;}#sk-container-id-6 input.sk-toggleable__control:checked~div.sk-toggleable__content {max-height: 200px;max-width: 100%;overflow: auto;}#sk-container-id-6 input.sk-toggleable__control:checked~label.sk-toggleable__label-arrow:before {content: \"▾\";}#sk-container-id-6 div.sk-estimator input.sk-toggleable__control:checked~label.sk-toggleable__label {background-color: #d4ebff;}#sk-container-id-6 div.sk-label input.sk-toggleable__control:checked~label.sk-toggleable__label {background-color: #d4ebff;}#sk-container-id-6 input.sk-hidden--visually {border: 0;clip: rect(1px 1px 1px 1px);clip: rect(1px, 1px, 1px, 1px);height: 1px;margin: -1px;overflow: hidden;padding: 0;position: absolute;width: 1px;}#sk-container-id-6 div.sk-estimator {font-family: monospace;background-color: #f0f8ff;border: 1px dotted black;border-radius: 0.25em;box-sizing: border-box;margin-bottom: 0.5em;}#sk-container-id-6 div.sk-estimator:hover {background-color: #d4ebff;}#sk-container-id-6 div.sk-parallel-item::after {content: \"\";width: 100%;border-bottom: 1px solid gray;flex-grow: 1;}#sk-container-id-6 div.sk-label:hover label.sk-toggleable__label {background-color: #d4ebff;}#sk-container-id-6 div.sk-serial::before {content: \"\";position: absolute;border-left: 1px solid gray;box-sizing: border-box;top: 0;bottom: 0;left: 50%;z-index: 0;}#sk-container-id-6 div.sk-serial {display: flex;flex-direction: column;align-items: center;background-color: white;padding-right: 0.2em;padding-left: 0.2em;position: relative;}#sk-container-id-6 div.sk-item {position: relative;z-index: 1;}#sk-container-id-6 div.sk-parallel {display: flex;align-items: stretch;justify-content: center;background-color: white;position: relative;}#sk-container-id-6 div.sk-item::before, #sk-container-id-6 div.sk-parallel-item::before {content: \"\";position: absolute;border-left: 1px solid gray;box-sizing: border-box;top: 0;bottom: 0;left: 50%;z-index: -1;}#sk-container-id-6 div.sk-parallel-item {display: flex;flex-direction: column;z-index: 1;position: relative;background-color: white;}#sk-container-id-6 div.sk-parallel-item:first-child::after {align-self: flex-end;width: 50%;}#sk-container-id-6 div.sk-parallel-item:last-child::after {align-self: flex-start;width: 50%;}#sk-container-id-6 div.sk-parallel-item:only-child::after {width: 0;}#sk-container-id-6 div.sk-dashed-wrapped {border: 1px dashed gray;margin: 0 0.4em 0.5em 0.4em;box-sizing: border-box;padding-bottom: 0.4em;background-color: white;}#sk-container-id-6 div.sk-label label {font-family: monospace;font-weight: bold;display: inline-block;line-height: 1.2em;}#sk-container-id-6 div.sk-label-container {text-align: center;}#sk-container-id-6 div.sk-container {/* jupyter's `normalize.less` sets `[hidden] { display: none; }` but bootstrap.min.css set `[hidden] { display: none !important; }` so we also need the `!important` here to be able to override the default hidden behavior on the sphinx rendered scikit-learn.org. See: https://github.com/scikit-learn/scikit-learn/issues/21755 */display: inline-block !important;position: relative;}#sk-container-id-6 div.sk-text-repr-fallback {display: none;}</style><div id=\"sk-container-id-6\" class=\"sk-top-container\"><div class=\"sk-text-repr-fallback\"><pre>XGBRegressor(base_score=0.5, booster=&#x27;gbtree&#x27;, callbacks=None,\n",
       "             colsample_bylevel=1, colsample_bynode=1, colsample_bytree=1,\n",
       "             early_stopping_rounds=None, enable_categorical=False,\n",
       "             eval_metric=None, gamma=0, gpu_id=-1, grow_policy=&#x27;depthwise&#x27;,\n",
       "             importance_type=None, interaction_constraints=&#x27;&#x27;,\n",
       "             learning_rate=0.300000012, max_bin=256, max_cat_to_onehot=4,\n",
       "             max_delta_step=0, max_depth=6, max_leaves=0, min_child_weight=1,\n",
       "             missing=nan, monotone_constraints=&#x27;()&#x27;, n_estimators=120, n_jobs=0,\n",
       "             num_parallel_tree=1, predictor=&#x27;auto&#x27;, random_state=123,\n",
       "             reg_alpha=0, reg_lambda=1, ...)</pre><b>In a Jupyter environment, please rerun this cell to show the HTML representation or trust the notebook. <br />On GitHub, the HTML representation is unable to render, please try loading this page with nbviewer.org.</b></div><div class=\"sk-container\" hidden><div class=\"sk-item\"><div class=\"sk-estimator sk-toggleable\"><input class=\"sk-toggleable__control sk-hidden--visually\" id=\"sk-estimator-id-6\" type=\"checkbox\" checked><label for=\"sk-estimator-id-6\" class=\"sk-toggleable__label sk-toggleable__label-arrow\">XGBRegressor</label><div class=\"sk-toggleable__content\"><pre>XGBRegressor(base_score=0.5, booster=&#x27;gbtree&#x27;, callbacks=None,\n",
       "             colsample_bylevel=1, colsample_bynode=1, colsample_bytree=1,\n",
       "             early_stopping_rounds=None, enable_categorical=False,\n",
       "             eval_metric=None, gamma=0, gpu_id=-1, grow_policy=&#x27;depthwise&#x27;,\n",
       "             importance_type=None, interaction_constraints=&#x27;&#x27;,\n",
       "             learning_rate=0.300000012, max_bin=256, max_cat_to_onehot=4,\n",
       "             max_delta_step=0, max_depth=6, max_leaves=0, min_child_weight=1,\n",
       "             missing=nan, monotone_constraints=&#x27;()&#x27;, n_estimators=120, n_jobs=0,\n",
       "             num_parallel_tree=1, predictor=&#x27;auto&#x27;, random_state=123,\n",
       "             reg_alpha=0, reg_lambda=1, ...)</pre></div></div></div></div></div>"
      ],
      "text/plain": [
       "XGBRegressor(base_score=0.5, booster='gbtree', callbacks=None,\n",
       "             colsample_bylevel=1, colsample_bynode=1, colsample_bytree=1,\n",
       "             early_stopping_rounds=None, enable_categorical=False,\n",
       "             eval_metric=None, gamma=0, gpu_id=-1, grow_policy='depthwise',\n",
       "             importance_type=None, interaction_constraints='',\n",
       "             learning_rate=0.300000012, max_bin=256, max_cat_to_onehot=4,\n",
       "             max_delta_step=0, max_depth=6, max_leaves=0, min_child_weight=1,\n",
       "             missing=nan, monotone_constraints='()', n_estimators=120, n_jobs=0,\n",
       "             num_parallel_tree=1, predictor='auto', random_state=123,\n",
       "             reg_alpha=0, reg_lambda=1, ...)"
      ]
     },
     "execution_count": 186,
     "metadata": {},
     "output_type": "execute_result"
    }
   ],
   "source": [
    "XG_Model.fit(X_train, y_train)"
   ]
  },
  {
   "cell_type": "code",
   "execution_count": 187,
   "id": "607049ad",
   "metadata": {},
   "outputs": [],
   "source": [
    "# Predicting test data using XGBoost\n",
    "pred = XG_Model.predict(X_test)"
   ]
  },
  {
   "cell_type": "code",
   "execution_count": 188,
   "id": "519efe27",
   "metadata": {},
   "outputs": [
    {
     "data": {
      "text/plain": [
       "(0.7351838591369273, 0.052035393701305575)"
      ]
     },
     "execution_count": 188,
     "metadata": {},
     "output_type": "execute_result"
    }
   ],
   "source": [
    "# Finding r2 score and mean squared error for test data to check model's performance\n",
    "r2_score_test_xg=r2_score(y_test,pred)\n",
    "mean_squared_error_test_xg=mean_squared_error(y_test,pred)\n",
    "(r2_score_test_xg,mean_squared_error_test_xg)"
   ]
  },
  {
   "cell_type": "code",
   "execution_count": 189,
   "id": "e1e9ca28",
   "metadata": {},
   "outputs": [],
   "source": [
    "# Predicting train data using XGBoost\n",
    "pred_train = XG_Model.predict(X_train)"
   ]
  },
  {
   "cell_type": "code",
   "execution_count": 190,
   "id": "32bcb01f",
   "metadata": {},
   "outputs": [
    {
     "data": {
      "text/plain": [
       "(0.7826382335026081, 0.042137497306032834)"
      ]
     },
     "execution_count": 190,
     "metadata": {},
     "output_type": "execute_result"
    }
   ],
   "source": [
    "# Finding r2 score and mean squared error for train data to check model's performance\n",
    "r2_score_train_xg=r2_score(y_train,pred_train)\n",
    "mean_squared_error_train_xg=mean_squared_error(y_train,pred_train)\n",
    "(r2_score_train_xg,mean_squared_error_train_xg)"
   ]
  },
  {
   "cell_type": "code",
   "execution_count": 191,
   "id": "b92abd4b",
   "metadata": {},
   "outputs": [
    {
     "data": {
      "text/html": [
       "<div>\n",
       "<style scoped>\n",
       "    .dataframe tbody tr th:only-of-type {\n",
       "        vertical-align: middle;\n",
       "    }\n",
       "\n",
       "    .dataframe tbody tr th {\n",
       "        vertical-align: top;\n",
       "    }\n",
       "\n",
       "    .dataframe thead th {\n",
       "        text-align: right;\n",
       "    }\n",
       "</style>\n",
       "<table border=\"1\" class=\"dataframe\">\n",
       "  <thead>\n",
       "    <tr style=\"text-align: right;\">\n",
       "      <th></th>\n",
       "      <th>y_test</th>\n",
       "      <th>pred</th>\n",
       "    </tr>\n",
       "  </thead>\n",
       "  <tbody>\n",
       "    <tr>\n",
       "      <th>28627</th>\n",
       "      <td>2.9</td>\n",
       "      <td>3.001628</td>\n",
       "    </tr>\n",
       "    <tr>\n",
       "      <th>36449</th>\n",
       "      <td>4.2</td>\n",
       "      <td>4.259044</td>\n",
       "    </tr>\n",
       "    <tr>\n",
       "      <th>380</th>\n",
       "      <td>3.8</td>\n",
       "      <td>3.591591</td>\n",
       "    </tr>\n",
       "    <tr>\n",
       "      <th>28172</th>\n",
       "      <td>4.5</td>\n",
       "      <td>4.475447</td>\n",
       "    </tr>\n",
       "    <tr>\n",
       "      <th>19225</th>\n",
       "      <td>3.7</td>\n",
       "      <td>3.431192</td>\n",
       "    </tr>\n",
       "    <tr>\n",
       "      <th>...</th>\n",
       "      <td>...</td>\n",
       "      <td>...</td>\n",
       "    </tr>\n",
       "    <tr>\n",
       "      <th>7038</th>\n",
       "      <td>3.5</td>\n",
       "      <td>3.333582</td>\n",
       "    </tr>\n",
       "    <tr>\n",
       "      <th>46552</th>\n",
       "      <td>3.3</td>\n",
       "      <td>3.240853</td>\n",
       "    </tr>\n",
       "    <tr>\n",
       "      <th>34812</th>\n",
       "      <td>4.1</td>\n",
       "      <td>4.128781</td>\n",
       "    </tr>\n",
       "    <tr>\n",
       "      <th>44397</th>\n",
       "      <td>3.9</td>\n",
       "      <td>3.913894</td>\n",
       "    </tr>\n",
       "    <tr>\n",
       "      <th>36750</th>\n",
       "      <td>4.2</td>\n",
       "      <td>4.029953</td>\n",
       "    </tr>\n",
       "  </tbody>\n",
       "</table>\n",
       "<p>4134 rows × 2 columns</p>\n",
       "</div>"
      ],
      "text/plain": [
       "       y_test      pred\n",
       "28627     2.9  3.001628\n",
       "36449     4.2  4.259044\n",
       "380       3.8  3.591591\n",
       "28172     4.5  4.475447\n",
       "19225     3.7  3.431192\n",
       "...       ...       ...\n",
       "7038      3.5  3.333582\n",
       "46552     3.3  3.240853\n",
       "34812     4.1  4.128781\n",
       "44397     3.9  3.913894\n",
       "36750     4.2  4.029953\n",
       "\n",
       "[4134 rows x 2 columns]"
      ]
     },
     "execution_count": 191,
     "metadata": {},
     "output_type": "execute_result"
    }
   ],
   "source": [
    "# Comparing actual and predicted values\n",
    "df = pd.DataFrame({\"y_test\" : y_test,\"pred\":pred})\n",
    "df"
   ]
  },
  {
   "cell_type": "code",
   "execution_count": 192,
   "id": "906ecdb6",
   "metadata": {},
   "outputs": [
    {
     "data": {
      "text/plain": [
       "(4.836594, 2.5933332)"
      ]
     },
     "execution_count": 192,
     "metadata": {},
     "output_type": "execute_result"
    }
   ],
   "source": [
    "(df.pred.max(),df.pred.min())"
   ]
  },
  {
   "cell_type": "markdown",
   "id": "46b790e0",
   "metadata": {},
   "source": [
    "Training and Testing with Extra Tree Regressor"
   ]
  },
  {
   "cell_type": "code",
   "execution_count": 193,
   "id": "6dfd8c36",
   "metadata": {},
   "outputs": [],
   "source": [
    "from sklearn.metrics import r2_score,mean_squared_error\n",
    "from sklearn.ensemble import ExtraTreesRegressor"
   ]
  },
  {
   "cell_type": "code",
   "execution_count": 194,
   "id": "73e301d5",
   "metadata": {},
   "outputs": [],
   "source": [
    "ET_Model=ExtraTreesRegressor(n_estimators = 120)"
   ]
  },
  {
   "cell_type": "code",
   "execution_count": 195,
   "id": "1c1804db",
   "metadata": {},
   "outputs": [
    {
     "data": {
      "text/html": [
       "<style>#sk-container-id-7 {color: black;background-color: white;}#sk-container-id-7 pre{padding: 0;}#sk-container-id-7 div.sk-toggleable {background-color: white;}#sk-container-id-7 label.sk-toggleable__label {cursor: pointer;display: block;width: 100%;margin-bottom: 0;padding: 0.3em;box-sizing: border-box;text-align: center;}#sk-container-id-7 label.sk-toggleable__label-arrow:before {content: \"▸\";float: left;margin-right: 0.25em;color: #696969;}#sk-container-id-7 label.sk-toggleable__label-arrow:hover:before {color: black;}#sk-container-id-7 div.sk-estimator:hover label.sk-toggleable__label-arrow:before {color: black;}#sk-container-id-7 div.sk-toggleable__content {max-height: 0;max-width: 0;overflow: hidden;text-align: left;background-color: #f0f8ff;}#sk-container-id-7 div.sk-toggleable__content pre {margin: 0.2em;color: black;border-radius: 0.25em;background-color: #f0f8ff;}#sk-container-id-7 input.sk-toggleable__control:checked~div.sk-toggleable__content {max-height: 200px;max-width: 100%;overflow: auto;}#sk-container-id-7 input.sk-toggleable__control:checked~label.sk-toggleable__label-arrow:before {content: \"▾\";}#sk-container-id-7 div.sk-estimator input.sk-toggleable__control:checked~label.sk-toggleable__label {background-color: #d4ebff;}#sk-container-id-7 div.sk-label input.sk-toggleable__control:checked~label.sk-toggleable__label {background-color: #d4ebff;}#sk-container-id-7 input.sk-hidden--visually {border: 0;clip: rect(1px 1px 1px 1px);clip: rect(1px, 1px, 1px, 1px);height: 1px;margin: -1px;overflow: hidden;padding: 0;position: absolute;width: 1px;}#sk-container-id-7 div.sk-estimator {font-family: monospace;background-color: #f0f8ff;border: 1px dotted black;border-radius: 0.25em;box-sizing: border-box;margin-bottom: 0.5em;}#sk-container-id-7 div.sk-estimator:hover {background-color: #d4ebff;}#sk-container-id-7 div.sk-parallel-item::after {content: \"\";width: 100%;border-bottom: 1px solid gray;flex-grow: 1;}#sk-container-id-7 div.sk-label:hover label.sk-toggleable__label {background-color: #d4ebff;}#sk-container-id-7 div.sk-serial::before {content: \"\";position: absolute;border-left: 1px solid gray;box-sizing: border-box;top: 0;bottom: 0;left: 50%;z-index: 0;}#sk-container-id-7 div.sk-serial {display: flex;flex-direction: column;align-items: center;background-color: white;padding-right: 0.2em;padding-left: 0.2em;position: relative;}#sk-container-id-7 div.sk-item {position: relative;z-index: 1;}#sk-container-id-7 div.sk-parallel {display: flex;align-items: stretch;justify-content: center;background-color: white;position: relative;}#sk-container-id-7 div.sk-item::before, #sk-container-id-7 div.sk-parallel-item::before {content: \"\";position: absolute;border-left: 1px solid gray;box-sizing: border-box;top: 0;bottom: 0;left: 50%;z-index: -1;}#sk-container-id-7 div.sk-parallel-item {display: flex;flex-direction: column;z-index: 1;position: relative;background-color: white;}#sk-container-id-7 div.sk-parallel-item:first-child::after {align-self: flex-end;width: 50%;}#sk-container-id-7 div.sk-parallel-item:last-child::after {align-self: flex-start;width: 50%;}#sk-container-id-7 div.sk-parallel-item:only-child::after {width: 0;}#sk-container-id-7 div.sk-dashed-wrapped {border: 1px dashed gray;margin: 0 0.4em 0.5em 0.4em;box-sizing: border-box;padding-bottom: 0.4em;background-color: white;}#sk-container-id-7 div.sk-label label {font-family: monospace;font-weight: bold;display: inline-block;line-height: 1.2em;}#sk-container-id-7 div.sk-label-container {text-align: center;}#sk-container-id-7 div.sk-container {/* jupyter's `normalize.less` sets `[hidden] { display: none; }` but bootstrap.min.css set `[hidden] { display: none !important; }` so we also need the `!important` here to be able to override the default hidden behavior on the sphinx rendered scikit-learn.org. See: https://github.com/scikit-learn/scikit-learn/issues/21755 */display: inline-block !important;position: relative;}#sk-container-id-7 div.sk-text-repr-fallback {display: none;}</style><div id=\"sk-container-id-7\" class=\"sk-top-container\"><div class=\"sk-text-repr-fallback\"><pre>ExtraTreesRegressor(n_estimators=120)</pre><b>In a Jupyter environment, please rerun this cell to show the HTML representation or trust the notebook. <br />On GitHub, the HTML representation is unable to render, please try loading this page with nbviewer.org.</b></div><div class=\"sk-container\" hidden><div class=\"sk-item\"><div class=\"sk-estimator sk-toggleable\"><input class=\"sk-toggleable__control sk-hidden--visually\" id=\"sk-estimator-id-7\" type=\"checkbox\" checked><label for=\"sk-estimator-id-7\" class=\"sk-toggleable__label sk-toggleable__label-arrow\">ExtraTreesRegressor</label><div class=\"sk-toggleable__content\"><pre>ExtraTreesRegressor(n_estimators=120)</pre></div></div></div></div></div>"
      ],
      "text/plain": [
       "ExtraTreesRegressor(n_estimators=120)"
      ]
     },
     "execution_count": 195,
     "metadata": {},
     "output_type": "execute_result"
    }
   ],
   "source": [
    "ET_Model.fit(X_train, y_train)"
   ]
  },
  {
   "cell_type": "code",
   "execution_count": 196,
   "id": "74ec429b",
   "metadata": {},
   "outputs": [],
   "source": [
    "# Predicting test data using Extra Tree\n",
    "pred = ET_Model.predict(X_test)"
   ]
  },
  {
   "cell_type": "code",
   "execution_count": 197,
   "id": "7c112a07",
   "metadata": {},
   "outputs": [
    {
     "data": {
      "text/plain": [
       "(0.9029108854118532, 0.019077652461968485)"
      ]
     },
     "execution_count": 197,
     "metadata": {},
     "output_type": "execute_result"
    }
   ],
   "source": [
    "# Finding r2 score and mean squared error for test data to check model's performance\n",
    "r2_score_test_et=r2_score(y_test,pred)\n",
    "mean_squared_error_test_et=mean_squared_error(y_test,pred)\n",
    "(r2_score_test_et,mean_squared_error_test_et)"
   ]
  },
  {
   "cell_type": "code",
   "execution_count": 198,
   "id": "1584875d",
   "metadata": {},
   "outputs": [],
   "source": [
    "# Predicting train data using Extra Tree\n",
    "pred_train = ET_Model.predict(X_train)"
   ]
  },
  {
   "cell_type": "code",
   "execution_count": 199,
   "id": "45e7f21d",
   "metadata": {},
   "outputs": [
    {
     "data": {
      "text/plain": [
       "(0.9994377527842341, 0.00010899658629680403)"
      ]
     },
     "execution_count": 199,
     "metadata": {},
     "output_type": "execute_result"
    }
   ],
   "source": [
    "# Finding r2 score and mean squared error for train data to check model's performance\n",
    "r2_score_train_et=r2_score(y_train,pred_train)\n",
    "mean_squared_error_train_et=mean_squared_error(y_train,pred_train)\n",
    "(r2_score_train_et,mean_squared_error_train_et)"
   ]
  },
  {
   "cell_type": "code",
   "execution_count": 200,
   "id": "c59ccbb4",
   "metadata": {},
   "outputs": [
    {
     "data": {
      "text/html": [
       "<div>\n",
       "<style scoped>\n",
       "    .dataframe tbody tr th:only-of-type {\n",
       "        vertical-align: middle;\n",
       "    }\n",
       "\n",
       "    .dataframe tbody tr th {\n",
       "        vertical-align: top;\n",
       "    }\n",
       "\n",
       "    .dataframe thead th {\n",
       "        text-align: right;\n",
       "    }\n",
       "</style>\n",
       "<table border=\"1\" class=\"dataframe\">\n",
       "  <thead>\n",
       "    <tr style=\"text-align: right;\">\n",
       "      <th></th>\n",
       "      <th>y_test</th>\n",
       "      <th>pred</th>\n",
       "    </tr>\n",
       "  </thead>\n",
       "  <tbody>\n",
       "    <tr>\n",
       "      <th>28627</th>\n",
       "      <td>2.9</td>\n",
       "      <td>2.927500</td>\n",
       "    </tr>\n",
       "    <tr>\n",
       "      <th>36449</th>\n",
       "      <td>4.2</td>\n",
       "      <td>4.194167</td>\n",
       "    </tr>\n",
       "    <tr>\n",
       "      <th>380</th>\n",
       "      <td>3.8</td>\n",
       "      <td>3.495833</td>\n",
       "    </tr>\n",
       "    <tr>\n",
       "      <th>28172</th>\n",
       "      <td>4.5</td>\n",
       "      <td>4.503333</td>\n",
       "    </tr>\n",
       "    <tr>\n",
       "      <th>19225</th>\n",
       "      <td>3.7</td>\n",
       "      <td>3.422500</td>\n",
       "    </tr>\n",
       "    <tr>\n",
       "      <th>...</th>\n",
       "      <td>...</td>\n",
       "      <td>...</td>\n",
       "    </tr>\n",
       "    <tr>\n",
       "      <th>7038</th>\n",
       "      <td>3.5</td>\n",
       "      <td>3.095833</td>\n",
       "    </tr>\n",
       "    <tr>\n",
       "      <th>46552</th>\n",
       "      <td>3.3</td>\n",
       "      <td>3.292500</td>\n",
       "    </tr>\n",
       "    <tr>\n",
       "      <th>34812</th>\n",
       "      <td>4.1</td>\n",
       "      <td>4.100000</td>\n",
       "    </tr>\n",
       "    <tr>\n",
       "      <th>44397</th>\n",
       "      <td>3.9</td>\n",
       "      <td>3.883333</td>\n",
       "    </tr>\n",
       "    <tr>\n",
       "      <th>36750</th>\n",
       "      <td>4.2</td>\n",
       "      <td>4.191667</td>\n",
       "    </tr>\n",
       "  </tbody>\n",
       "</table>\n",
       "<p>4134 rows × 2 columns</p>\n",
       "</div>"
      ],
      "text/plain": [
       "       y_test      pred\n",
       "28627     2.9  2.927500\n",
       "36449     4.2  4.194167\n",
       "380       3.8  3.495833\n",
       "28172     4.5  4.503333\n",
       "19225     3.7  3.422500\n",
       "...       ...       ...\n",
       "7038      3.5  3.095833\n",
       "46552     3.3  3.292500\n",
       "34812     4.1  4.100000\n",
       "44397     3.9  3.883333\n",
       "36750     4.2  4.191667\n",
       "\n",
       "[4134 rows x 2 columns]"
      ]
     },
     "execution_count": 200,
     "metadata": {},
     "output_type": "execute_result"
    }
   ],
   "source": [
    "df1=pd.DataFrame({\"y_test\" : y_test,\"pred\":pred})\n",
    "df1"
   ]
  },
  {
   "cell_type": "code",
   "execution_count": 201,
   "id": "42ae58c0",
   "metadata": {},
   "outputs": [
    {
     "data": {
      "text/plain": [
       "(4.89999999999999, 2.0349999999999997)"
      ]
     },
     "execution_count": 201,
     "metadata": {},
     "output_type": "execute_result"
    }
   ],
   "source": [
    "(df1.pred.max(),df1.pred.min())"
   ]
  },
  {
   "cell_type": "markdown",
   "id": "1faeffac",
   "metadata": {},
   "source": [
    "Training and Testing with Extra Tree Regressor"
   ]
  },
  {
   "cell_type": "code",
   "execution_count": 202,
   "id": "02726fea",
   "metadata": {},
   "outputs": [],
   "source": [
    "from sklearn.ensemble import RandomForestRegressor"
   ]
  },
  {
   "cell_type": "code",
   "execution_count": 203,
   "id": "f9c2cd1d",
   "metadata": {},
   "outputs": [],
   "source": [
    "RF_Model = RandomForestRegressor(n_estimators = 120, random_state = 0)"
   ]
  },
  {
   "cell_type": "code",
   "execution_count": 204,
   "id": "cb383735",
   "metadata": {},
   "outputs": [
    {
     "data": {
      "text/html": [
       "<style>#sk-container-id-8 {color: black;background-color: white;}#sk-container-id-8 pre{padding: 0;}#sk-container-id-8 div.sk-toggleable {background-color: white;}#sk-container-id-8 label.sk-toggleable__label {cursor: pointer;display: block;width: 100%;margin-bottom: 0;padding: 0.3em;box-sizing: border-box;text-align: center;}#sk-container-id-8 label.sk-toggleable__label-arrow:before {content: \"▸\";float: left;margin-right: 0.25em;color: #696969;}#sk-container-id-8 label.sk-toggleable__label-arrow:hover:before {color: black;}#sk-container-id-8 div.sk-estimator:hover label.sk-toggleable__label-arrow:before {color: black;}#sk-container-id-8 div.sk-toggleable__content {max-height: 0;max-width: 0;overflow: hidden;text-align: left;background-color: #f0f8ff;}#sk-container-id-8 div.sk-toggleable__content pre {margin: 0.2em;color: black;border-radius: 0.25em;background-color: #f0f8ff;}#sk-container-id-8 input.sk-toggleable__control:checked~div.sk-toggleable__content {max-height: 200px;max-width: 100%;overflow: auto;}#sk-container-id-8 input.sk-toggleable__control:checked~label.sk-toggleable__label-arrow:before {content: \"▾\";}#sk-container-id-8 div.sk-estimator input.sk-toggleable__control:checked~label.sk-toggleable__label {background-color: #d4ebff;}#sk-container-id-8 div.sk-label input.sk-toggleable__control:checked~label.sk-toggleable__label {background-color: #d4ebff;}#sk-container-id-8 input.sk-hidden--visually {border: 0;clip: rect(1px 1px 1px 1px);clip: rect(1px, 1px, 1px, 1px);height: 1px;margin: -1px;overflow: hidden;padding: 0;position: absolute;width: 1px;}#sk-container-id-8 div.sk-estimator {font-family: monospace;background-color: #f0f8ff;border: 1px dotted black;border-radius: 0.25em;box-sizing: border-box;margin-bottom: 0.5em;}#sk-container-id-8 div.sk-estimator:hover {background-color: #d4ebff;}#sk-container-id-8 div.sk-parallel-item::after {content: \"\";width: 100%;border-bottom: 1px solid gray;flex-grow: 1;}#sk-container-id-8 div.sk-label:hover label.sk-toggleable__label {background-color: #d4ebff;}#sk-container-id-8 div.sk-serial::before {content: \"\";position: absolute;border-left: 1px solid gray;box-sizing: border-box;top: 0;bottom: 0;left: 50%;z-index: 0;}#sk-container-id-8 div.sk-serial {display: flex;flex-direction: column;align-items: center;background-color: white;padding-right: 0.2em;padding-left: 0.2em;position: relative;}#sk-container-id-8 div.sk-item {position: relative;z-index: 1;}#sk-container-id-8 div.sk-parallel {display: flex;align-items: stretch;justify-content: center;background-color: white;position: relative;}#sk-container-id-8 div.sk-item::before, #sk-container-id-8 div.sk-parallel-item::before {content: \"\";position: absolute;border-left: 1px solid gray;box-sizing: border-box;top: 0;bottom: 0;left: 50%;z-index: -1;}#sk-container-id-8 div.sk-parallel-item {display: flex;flex-direction: column;z-index: 1;position: relative;background-color: white;}#sk-container-id-8 div.sk-parallel-item:first-child::after {align-self: flex-end;width: 50%;}#sk-container-id-8 div.sk-parallel-item:last-child::after {align-self: flex-start;width: 50%;}#sk-container-id-8 div.sk-parallel-item:only-child::after {width: 0;}#sk-container-id-8 div.sk-dashed-wrapped {border: 1px dashed gray;margin: 0 0.4em 0.5em 0.4em;box-sizing: border-box;padding-bottom: 0.4em;background-color: white;}#sk-container-id-8 div.sk-label label {font-family: monospace;font-weight: bold;display: inline-block;line-height: 1.2em;}#sk-container-id-8 div.sk-label-container {text-align: center;}#sk-container-id-8 div.sk-container {/* jupyter's `normalize.less` sets `[hidden] { display: none; }` but bootstrap.min.css set `[hidden] { display: none !important; }` so we also need the `!important` here to be able to override the default hidden behavior on the sphinx rendered scikit-learn.org. See: https://github.com/scikit-learn/scikit-learn/issues/21755 */display: inline-block !important;position: relative;}#sk-container-id-8 div.sk-text-repr-fallback {display: none;}</style><div id=\"sk-container-id-8\" class=\"sk-top-container\"><div class=\"sk-text-repr-fallback\"><pre>RandomForestRegressor(n_estimators=120, random_state=0)</pre><b>In a Jupyter environment, please rerun this cell to show the HTML representation or trust the notebook. <br />On GitHub, the HTML representation is unable to render, please try loading this page with nbviewer.org.</b></div><div class=\"sk-container\" hidden><div class=\"sk-item\"><div class=\"sk-estimator sk-toggleable\"><input class=\"sk-toggleable__control sk-hidden--visually\" id=\"sk-estimator-id-8\" type=\"checkbox\" checked><label for=\"sk-estimator-id-8\" class=\"sk-toggleable__label sk-toggleable__label-arrow\">RandomForestRegressor</label><div class=\"sk-toggleable__content\"><pre>RandomForestRegressor(n_estimators=120, random_state=0)</pre></div></div></div></div></div>"
      ],
      "text/plain": [
       "RandomForestRegressor(n_estimators=120, random_state=0)"
      ]
     },
     "execution_count": 204,
     "metadata": {},
     "output_type": "execute_result"
    }
   ],
   "source": [
    "RF_Model.fit(X_train, y_train)"
   ]
  },
  {
   "cell_type": "code",
   "execution_count": 205,
   "id": "0371db7c",
   "metadata": {},
   "outputs": [],
   "source": [
    "# Predicting test data using Random Forest\n",
    "pred = RF_Model.predict(X_test)"
   ]
  },
  {
   "cell_type": "code",
   "execution_count": 206,
   "id": "f739e809",
   "metadata": {},
   "outputs": [
    {
     "data": {
      "text/plain": [
       "(0.9035431797423352, 0.018953408961121028)"
      ]
     },
     "execution_count": 206,
     "metadata": {},
     "output_type": "execute_result"
    }
   ],
   "source": [
    "# Finding r2 score and mean squared error for test data to check model's performance\n",
    "r2_score_test_rf=r2_score(y_test,pred)\n",
    "mean_squared_error_test_rf=mean_squared_error(y_test,pred)\n",
    "(r2_score_test_rf,mean_squared_error_test_rf)"
   ]
  },
  {
   "cell_type": "code",
   "execution_count": 207,
   "id": "e27ffb59",
   "metadata": {},
   "outputs": [],
   "source": [
    "# Predicting train data using Random Forest\n",
    "pred_train = RF_Model.predict(X_train)"
   ]
  },
  {
   "cell_type": "code",
   "execution_count": 208,
   "id": "ea8bb1d6",
   "metadata": {},
   "outputs": [
    {
     "data": {
      "text/plain": [
       "(0.98594962110772, 0.002723789985067553)"
      ]
     },
     "execution_count": 208,
     "metadata": {},
     "output_type": "execute_result"
    }
   ],
   "source": [
    "# Finding r2 score and mean squared error for train data to check model's performance\n",
    "r2_score_train_rf=r2_score(y_train,pred_train)\n",
    "mean_squared_error_train_rf=mean_squared_error(y_train,pred_train)\n",
    "(r2_score_train_rf,mean_squared_error_train_rf)"
   ]
  },
  {
   "cell_type": "code",
   "execution_count": 209,
   "id": "b4e9cdeb",
   "metadata": {},
   "outputs": [
    {
     "data": {
      "text/html": [
       "<div>\n",
       "<style scoped>\n",
       "    .dataframe tbody tr th:only-of-type {\n",
       "        vertical-align: middle;\n",
       "    }\n",
       "\n",
       "    .dataframe tbody tr th {\n",
       "        vertical-align: top;\n",
       "    }\n",
       "\n",
       "    .dataframe thead th {\n",
       "        text-align: right;\n",
       "    }\n",
       "</style>\n",
       "<table border=\"1\" class=\"dataframe\">\n",
       "  <thead>\n",
       "    <tr style=\"text-align: right;\">\n",
       "      <th></th>\n",
       "      <th>y_test</th>\n",
       "      <th>pred</th>\n",
       "    </tr>\n",
       "  </thead>\n",
       "  <tbody>\n",
       "    <tr>\n",
       "      <th>28627</th>\n",
       "      <td>2.9</td>\n",
       "      <td>2.910000</td>\n",
       "    </tr>\n",
       "    <tr>\n",
       "      <th>36449</th>\n",
       "      <td>4.2</td>\n",
       "      <td>4.172500</td>\n",
       "    </tr>\n",
       "    <tr>\n",
       "      <th>380</th>\n",
       "      <td>3.8</td>\n",
       "      <td>3.615833</td>\n",
       "    </tr>\n",
       "    <tr>\n",
       "      <th>28172</th>\n",
       "      <td>4.5</td>\n",
       "      <td>4.497500</td>\n",
       "    </tr>\n",
       "    <tr>\n",
       "      <th>19225</th>\n",
       "      <td>3.7</td>\n",
       "      <td>3.235000</td>\n",
       "    </tr>\n",
       "    <tr>\n",
       "      <th>...</th>\n",
       "      <td>...</td>\n",
       "      <td>...</td>\n",
       "    </tr>\n",
       "    <tr>\n",
       "      <th>7038</th>\n",
       "      <td>3.5</td>\n",
       "      <td>3.245833</td>\n",
       "    </tr>\n",
       "    <tr>\n",
       "      <th>46552</th>\n",
       "      <td>3.3</td>\n",
       "      <td>3.231667</td>\n",
       "    </tr>\n",
       "    <tr>\n",
       "      <th>34812</th>\n",
       "      <td>4.1</td>\n",
       "      <td>4.102500</td>\n",
       "    </tr>\n",
       "    <tr>\n",
       "      <th>44397</th>\n",
       "      <td>3.9</td>\n",
       "      <td>3.871667</td>\n",
       "    </tr>\n",
       "    <tr>\n",
       "      <th>36750</th>\n",
       "      <td>4.2</td>\n",
       "      <td>4.192500</td>\n",
       "    </tr>\n",
       "  </tbody>\n",
       "</table>\n",
       "<p>4134 rows × 2 columns</p>\n",
       "</div>"
      ],
      "text/plain": [
       "       y_test      pred\n",
       "28627     2.9  2.910000\n",
       "36449     4.2  4.172500\n",
       "380       3.8  3.615833\n",
       "28172     4.5  4.497500\n",
       "19225     3.7  3.235000\n",
       "...       ...       ...\n",
       "7038      3.5  3.245833\n",
       "46552     3.3  3.231667\n",
       "34812     4.1  4.102500\n",
       "44397     3.9  3.871667\n",
       "36750     4.2  4.192500\n",
       "\n",
       "[4134 rows x 2 columns]"
      ]
     },
     "execution_count": 209,
     "metadata": {},
     "output_type": "execute_result"
    }
   ],
   "source": [
    "df2 = pd.DataFrame({\"y_test\" : y_test,\"pred\":pred})\n",
    "df2"
   ]
  },
  {
   "cell_type": "code",
   "execution_count": 210,
   "id": "9755118f",
   "metadata": {},
   "outputs": [
    {
     "data": {
      "text/plain": [
       "(4.89999999999999, 2.1866666666666665)"
      ]
     },
     "execution_count": 210,
     "metadata": {},
     "output_type": "execute_result"
    }
   ],
   "source": [
    "(df2.pred.max(),df2.pred.min())"
   ]
  },
  {
   "cell_type": "markdown",
   "id": "7971bbb7",
   "metadata": {},
   "source": [
    "# Comparing the three models"
   ]
  },
  {
   "cell_type": "code",
   "execution_count": 211,
   "id": "8099424b",
   "metadata": {},
   "outputs": [],
   "source": [
    "#Comparing models\n",
    "model_comparison=pd.DataFrame({'Models':['Xgboost','Extra Tree','Random Forest'],\n",
    "                'r2_score_train':[r2_score_train_xg,r2_score_train_et,r2_score_train_rf],\n",
    "                'mean_squared_error_train':[mean_squared_error_train_xg,mean_squared_error_train_et,mean_squared_error_train_rf],\n",
    "                'r2_score_test':[r2_score_test_xg,r2_score_test_et,r2_score_test_rf],\n",
    "                'mean_squared_error_test':[mean_squared_error_test_xg,mean_squared_error_test_et,mean_squared_error_test_rf]})"
   ]
  },
  {
   "cell_type": "code",
   "execution_count": 212,
   "id": "c87d921b",
   "metadata": {},
   "outputs": [
    {
     "data": {
      "text/html": [
       "<div>\n",
       "<style scoped>\n",
       "    .dataframe tbody tr th:only-of-type {\n",
       "        vertical-align: middle;\n",
       "    }\n",
       "\n",
       "    .dataframe tbody tr th {\n",
       "        vertical-align: top;\n",
       "    }\n",
       "\n",
       "    .dataframe thead th {\n",
       "        text-align: right;\n",
       "    }\n",
       "</style>\n",
       "<table border=\"1\" class=\"dataframe\">\n",
       "  <thead>\n",
       "    <tr style=\"text-align: right;\">\n",
       "      <th></th>\n",
       "      <th>Models</th>\n",
       "      <th>r2_score_train</th>\n",
       "      <th>mean_squared_error_train</th>\n",
       "      <th>r2_score_test</th>\n",
       "      <th>mean_squared_error_test</th>\n",
       "    </tr>\n",
       "  </thead>\n",
       "  <tbody>\n",
       "    <tr>\n",
       "      <th>0</th>\n",
       "      <td>Xgboost</td>\n",
       "      <td>0.782638</td>\n",
       "      <td>0.042137</td>\n",
       "      <td>0.735184</td>\n",
       "      <td>0.052035</td>\n",
       "    </tr>\n",
       "    <tr>\n",
       "      <th>1</th>\n",
       "      <td>Extra Tree</td>\n",
       "      <td>0.999438</td>\n",
       "      <td>0.000109</td>\n",
       "      <td>0.902911</td>\n",
       "      <td>0.019078</td>\n",
       "    </tr>\n",
       "    <tr>\n",
       "      <th>2</th>\n",
       "      <td>Random Forest</td>\n",
       "      <td>0.985950</td>\n",
       "      <td>0.002724</td>\n",
       "      <td>0.903543</td>\n",
       "      <td>0.018953</td>\n",
       "    </tr>\n",
       "  </tbody>\n",
       "</table>\n",
       "</div>"
      ],
      "text/plain": [
       "          Models  r2_score_train  mean_squared_error_train  r2_score_test  \\\n",
       "0        Xgboost        0.782638                  0.042137       0.735184   \n",
       "1     Extra Tree        0.999438                  0.000109       0.902911   \n",
       "2  Random Forest        0.985950                  0.002724       0.903543   \n",
       "\n",
       "   mean_squared_error_test  \n",
       "0                 0.052035  \n",
       "1                 0.019078  \n",
       "2                 0.018953  "
      ]
     },
     "execution_count": 212,
     "metadata": {},
     "output_type": "execute_result"
    }
   ],
   "source": [
    "model_comparison"
   ]
  },
  {
   "cell_type": "markdown",
   "id": "293e07eb-37aa-4161-bc07-d50ce3c506f3",
   "metadata": {},
   "source": [
    "## Saving The Best Model and verifying saves"
   ]
  },
  {
   "cell_type": "code",
   "execution_count": 222,
   "id": "eb5bdbee",
   "metadata": {},
   "outputs": [],
   "source": [
    "import pickle"
   ]
  },
  {
   "cell_type": "code",
   "execution_count": 253,
   "id": "8cd9c71c-28e5-474a-874f-da703ae649df",
   "metadata": {},
   "outputs": [
    {
     "name": "stdout",
     "output_type": "stream",
     "text": [
      "0.9035431797423352\n"
     ]
    }
   ],
   "source": [
    "model_file = open(\"saves/best_model.sav\", 'wb') \n",
    "pickle.dump(RF_Model, model_file)\n",
    "model_file.close()\n",
    "loaded_RF_Model = pickle.load(open(filename, 'rb'))\n",
    "result = loaded_RF_Model.score(X_test, y_test)\n",
    "print(result)"
   ]
  },
  {
   "cell_type": "code",
   "execution_count": 254,
   "id": "dcdc56c7-a72e-4ed4-9f61-95b500c31e96",
   "metadata": {},
   "outputs": [],
   "source": [
    "pred = loaded_RF_Model.predict(X_test)"
   ]
  },
  {
   "cell_type": "code",
   "execution_count": 255,
   "id": "da07df0b-f415-44e0-8b7a-7194bae3ad41",
   "metadata": {},
   "outputs": [
    {
     "data": {
      "text/plain": [
       "0.9035431797423352"
      ]
     },
     "execution_count": 255,
     "metadata": {},
     "output_type": "execute_result"
    }
   ],
   "source": [
    "r2_score(y_test,pred)"
   ]
  },
  {
   "cell_type": "code",
   "execution_count": 256,
   "id": "d60e9699-a4dc-4365-b661-a602c6712b9a",
   "metadata": {},
   "outputs": [],
   "source": [
    "encoder_file= open(\"saves/encoder_book_table.sav\", 'wb')\n",
    "pickle.dump(encoder_book_table, encoder_file)\n",
    "encoder_file.close()"
   ]
  },
  {
   "cell_type": "code",
   "execution_count": 257,
   "id": "dbb6562a-1461-44b8-8719-02cb348c65f2",
   "metadata": {},
   "outputs": [],
   "source": [
    "encoder_file= open(\"saves/encoder_city.sav\", 'wb')\n",
    "pickle.dump(encoder_city, encoder_file)\n",
    "encoder_file.close()"
   ]
  },
  {
   "cell_type": "code",
   "execution_count": 258,
   "id": "b8ed1b62-d206-4adf-818e-c762612ce41e",
   "metadata": {},
   "outputs": [],
   "source": [
    "encoder_file= open(\"saves/encoder_cuisines.sav\", 'wb')\n",
    "pickle.dump(encoder_cuisines, encoder_file)\n",
    "encoder_file.close()"
   ]
  },
  {
   "cell_type": "code",
   "execution_count": 259,
   "id": "305ff1ea-49d3-47c6-b5a5-df0ed4a1a475",
   "metadata": {},
   "outputs": [],
   "source": [
    "encoder_file= open(\"saves/encoder_online_order.sav\", 'wb')\n",
    "pickle.dump(encoder_online_order, encoder_file)\n",
    "encoder_file.close()"
   ]
  },
  {
   "cell_type": "code",
   "execution_count": 260,
   "id": "4a9a7ff2-8aa0-42d5-aea2-79467161844a",
   "metadata": {},
   "outputs": [],
   "source": [
    "encoder_file= open(\"saves/encoder_rest_type.sav\", 'wb')\n",
    "pickle.dump(encoder_rest_type, encoder_file)\n",
    "encoder_file.close()"
   ]
  },
  {
   "cell_type": "code",
   "execution_count": null,
   "id": "80d9f7c1-3eab-4422-99fb-a00aec2c1105",
   "metadata": {},
   "outputs": [],
   "source": []
  },
  {
   "cell_type": "code",
   "execution_count": null,
   "id": "41e35627-8fd6-4cf0-849c-7cf725ea3aee",
   "metadata": {},
   "outputs": [],
   "source": [
    "# loaded_encoder_book_table = pickle.load(open(filename, 'rb'))\n",
    "# print(loaded_encoder_book_table.transform([\"No\",\"No\",\"Yes\"]))"
   ]
  },
  {
   "cell_type": "code",
   "execution_count": 280,
   "id": "c070281f-bbcc-4175-8dac-cd4e4f15967c",
   "metadata": {},
   "outputs": [
    {
     "data": {
      "text/plain": [
       "Index(['online_order', 'book_table', 'votes', 'cuisines', 'Cost', 'rest_type',\n",
       "       'City'],\n",
       "      dtype='object')"
      ]
     },
     "execution_count": 280,
     "metadata": {},
     "output_type": "execute_result"
    }
   ],
   "source": [
    "X_train.columns"
   ]
  },
  {
   "cell_type": "code",
   "execution_count": null,
   "id": "58d81f17-f929-40f9-a43c-bc209846211f",
   "metadata": {},
   "outputs": [],
   "source": []
  }
 ],
 "metadata": {
  "kernelspec": {
   "display_name": "Python 3 (ipykernel)",
   "language": "python",
   "name": "python3"
  },
  "language_info": {
   "codemirror_mode": {
    "name": "ipython",
    "version": 3
   },
   "file_extension": ".py",
   "mimetype": "text/x-python",
   "name": "python",
   "nbconvert_exporter": "python",
   "pygments_lexer": "ipython3",
   "version": "3.10.7"
  }
 },
 "nbformat": 4,
 "nbformat_minor": 5
}
