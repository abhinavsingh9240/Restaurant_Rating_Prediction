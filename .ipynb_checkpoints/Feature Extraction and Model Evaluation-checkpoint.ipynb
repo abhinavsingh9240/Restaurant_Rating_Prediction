{
 "cells": [
  {
   "cell_type": "code",
   "execution_count": 1,
   "id": "04691736-0f91-4e58-ac65-d574bb40dd87",
   "metadata": {},
   "outputs": [],
   "source": [
    "import pandas as pd\n",
    "import numpy as np"
   ]
  },
  {
   "cell_type": "code",
   "execution_count": 2,
   "id": "4f304255-1a30-4378-953d-c508691d0f8e",
   "metadata": {},
   "outputs": [],
   "source": [
    "data = pd.read_excel(\"zomatoclean2.xlsx\")"
   ]
  },
  {
   "cell_type": "code",
   "execution_count": 3,
   "id": "73b7636c-2460-4ec0-ae7f-863ec2520e4f",
   "metadata": {},
   "outputs": [
    {
     "data": {
      "text/html": [
       "<div>\n",
       "<style scoped>\n",
       "    .dataframe tbody tr th:only-of-type {\n",
       "        vertical-align: middle;\n",
       "    }\n",
       "\n",
       "    .dataframe tbody tr th {\n",
       "        vertical-align: top;\n",
       "    }\n",
       "\n",
       "    .dataframe thead th {\n",
       "        text-align: right;\n",
       "    }\n",
       "</style>\n",
       "<table border=\"1\" class=\"dataframe\">\n",
       "  <thead>\n",
       "    <tr style=\"text-align: right;\">\n",
       "      <th></th>\n",
       "      <th>Restaurants</th>\n",
       "      <th>online_order</th>\n",
       "      <th>book_table</th>\n",
       "      <th>Rating</th>\n",
       "      <th>votes</th>\n",
       "      <th>location</th>\n",
       "      <th>rest_type</th>\n",
       "      <th>cuisines</th>\n",
       "      <th>Cost</th>\n",
       "      <th>type</th>\n",
       "    </tr>\n",
       "  </thead>\n",
       "  <tbody>\n",
       "    <tr>\n",
       "      <th>0</th>\n",
       "      <td>Jalsa</td>\n",
       "      <td>Yes</td>\n",
       "      <td>Yes</td>\n",
       "      <td>4.1</td>\n",
       "      <td>775</td>\n",
       "      <td>Banashankari</td>\n",
       "      <td>Casual Dining</td>\n",
       "      <td>North Indian, Mughlai, Chinese</td>\n",
       "      <td>800</td>\n",
       "      <td>Buffet</td>\n",
       "    </tr>\n",
       "    <tr>\n",
       "      <th>1</th>\n",
       "      <td>Spice Elephant</td>\n",
       "      <td>Yes</td>\n",
       "      <td>No</td>\n",
       "      <td>4.1</td>\n",
       "      <td>787</td>\n",
       "      <td>Banashankari</td>\n",
       "      <td>Casual Dining</td>\n",
       "      <td>Chinese, North Indian, Thai</td>\n",
       "      <td>800</td>\n",
       "      <td>Buffet</td>\n",
       "    </tr>\n",
       "    <tr>\n",
       "      <th>2</th>\n",
       "      <td>San Churro Cafe</td>\n",
       "      <td>Yes</td>\n",
       "      <td>No</td>\n",
       "      <td>3.8</td>\n",
       "      <td>918</td>\n",
       "      <td>Banashankari</td>\n",
       "      <td>Cafe, Casual Dining</td>\n",
       "      <td>Cafe, Mexican, Italian</td>\n",
       "      <td>800</td>\n",
       "      <td>Buffet</td>\n",
       "    </tr>\n",
       "    <tr>\n",
       "      <th>3</th>\n",
       "      <td>Addhuri Udupi Bhojana</td>\n",
       "      <td>No</td>\n",
       "      <td>No</td>\n",
       "      <td>3.7</td>\n",
       "      <td>88</td>\n",
       "      <td>Banashankari</td>\n",
       "      <td>Quick Bites</td>\n",
       "      <td>South Indian, North Indian</td>\n",
       "      <td>300</td>\n",
       "      <td>Buffet</td>\n",
       "    </tr>\n",
       "    <tr>\n",
       "      <th>4</th>\n",
       "      <td>Grand Village</td>\n",
       "      <td>No</td>\n",
       "      <td>No</td>\n",
       "      <td>3.8</td>\n",
       "      <td>166</td>\n",
       "      <td>Basavanagudi</td>\n",
       "      <td>Casual Dining</td>\n",
       "      <td>North Indian, Rajasthani</td>\n",
       "      <td>600</td>\n",
       "      <td>Buffet</td>\n",
       "    </tr>\n",
       "  </tbody>\n",
       "</table>\n",
       "</div>"
      ],
      "text/plain": [
       "             Restaurants online_order book_table  Rating  votes      location  \\\n",
       "0                  Jalsa          Yes        Yes     4.1    775  Banashankari   \n",
       "1         Spice Elephant          Yes         No     4.1    787  Banashankari   \n",
       "2        San Churro Cafe          Yes         No     3.8    918  Banashankari   \n",
       "3  Addhuri Udupi Bhojana           No         No     3.7     88  Banashankari   \n",
       "4          Grand Village           No         No     3.8    166  Basavanagudi   \n",
       "\n",
       "             rest_type                        cuisines  Cost    type  \n",
       "0        Casual Dining  North Indian, Mughlai, Chinese   800  Buffet  \n",
       "1        Casual Dining     Chinese, North Indian, Thai   800  Buffet  \n",
       "2  Cafe, Casual Dining          Cafe, Mexican, Italian   800  Buffet  \n",
       "3          Quick Bites      South Indian, North Indian   300  Buffet  \n",
       "4        Casual Dining        North Indian, Rajasthani   600  Buffet  "
      ]
     },
     "execution_count": 3,
     "metadata": {},
     "output_type": "execute_result"
    }
   ],
   "source": [
    "data.head()"
   ]
  },
  {
   "cell_type": "code",
   "execution_count": 4,
   "id": "8c198613-d315-4ece-9b4a-20614800ef4f",
   "metadata": {},
   "outputs": [
    {
     "name": "stdout",
     "output_type": "stream",
     "text": [
      "<class 'pandas.core.frame.DataFrame'>\n",
      "RangeIndex: 34636 entries, 0 to 34635\n",
      "Data columns (total 10 columns):\n",
      " #   Column        Non-Null Count  Dtype  \n",
      "---  ------        --------------  -----  \n",
      " 0   Restaurants   34636 non-null  object \n",
      " 1   online_order  34636 non-null  object \n",
      " 2   book_table    34636 non-null  object \n",
      " 3   Rating        34636 non-null  float64\n",
      " 4   votes         34636 non-null  int64  \n",
      " 5   location      34636 non-null  object \n",
      " 6   rest_type     34636 non-null  object \n",
      " 7   cuisines      34636 non-null  object \n",
      " 8   Cost          34636 non-null  int64  \n",
      " 9   type          34636 non-null  object \n",
      "dtypes: float64(1), int64(2), object(7)\n",
      "memory usage: 2.6+ MB\n"
     ]
    }
   ],
   "source": [
    "data.info()"
   ]
  },
  {
   "cell_type": "code",
   "execution_count": 5,
   "id": "36bf7e11-33da-47c2-8ea1-af6f69f2b8ca",
   "metadata": {},
   "outputs": [
    {
     "data": {
      "text/plain": [
       "Index(['Restaurants', 'online_order', 'book_table', 'Rating', 'votes',\n",
       "       'location', 'rest_type', 'cuisines', 'Cost', 'type'],\n",
       "      dtype='object')"
      ]
     },
     "execution_count": 5,
     "metadata": {},
     "output_type": "execute_result"
    }
   ],
   "source": [
    "data.columns"
   ]
  },
  {
   "cell_type": "markdown",
   "id": "0d5c465f-2c8b-4462-9f6d-7c1d98e28202",
   "metadata": {},
   "source": [
    "## Feature Extraction "
   ]
  },
  {
   "cell_type": "code",
   "execution_count": 6,
   "id": "16cfb006-ca51-47e3-849a-9effbfdc6139",
   "metadata": {},
   "outputs": [],
   "source": [
    "training_data = data.copy()"
   ]
  },
  {
   "cell_type": "code",
   "execution_count": 7,
   "id": "9af1cf12-53d3-4d0d-a005-b332ff13737e",
   "metadata": {},
   "outputs": [],
   "source": [
    "training_data.online_order = training_data.online_order == 'Yes'"
   ]
  },
  {
   "cell_type": "code",
   "execution_count": 8,
   "id": "885d2777-815e-4079-9a00-ad08235f7e43",
   "metadata": {},
   "outputs": [],
   "source": [
    "training_data.book_table = training_data.book_table == 'Yes'"
   ]
  },
  {
   "cell_type": "code",
   "execution_count": 9,
   "id": "156620bb-73d5-4280-ba17-c97042149334",
   "metadata": {},
   "outputs": [],
   "source": [
    "# Encoding the location \n",
    "from sklearn.preprocessing import LabelEncoder"
   ]
  },
  {
   "cell_type": "code",
   "execution_count": 10,
   "id": "f6b93ee1-1d88-4ac1-b241-84fc7ac2a615",
   "metadata": {},
   "outputs": [],
   "source": [
    "encoder_location = LabelEncoder()\n",
    "training_data.location = encoder_location.fit_transform(training_data.location)"
   ]
  },
  {
   "cell_type": "code",
   "execution_count": 11,
   "id": "3d38b69f-f837-4f0b-a519-203ed2557a71",
   "metadata": {},
   "outputs": [],
   "source": [
    "training_data.drop(columns=[\"Restaurants\"],inplace=True)"
   ]
  },
  {
   "cell_type": "code",
   "execution_count": 12,
   "id": "dd44097f-a8ec-4dff-9138-38340e1ab3ba",
   "metadata": {},
   "outputs": [],
   "source": [
    "training_data.rest_type = training_data.rest_type.apply(lambda x: len(x.split(\", \")))"
   ]
  },
  {
   "cell_type": "code",
   "execution_count": 13,
   "id": "e537e51a-5814-4b0d-9da0-dad78e674077",
   "metadata": {},
   "outputs": [],
   "source": [
    "training_data.cuisines = training_data.cuisines.apply(lambda x: len(x.split(\", \")))"
   ]
  },
  {
   "cell_type": "code",
   "execution_count": 14,
   "id": "fd9de60b-7298-43ea-bc1c-5622080a6f42",
   "metadata": {},
   "outputs": [],
   "source": [
    "encoder_type = LabelEncoder()\n",
    "training_data.type = encoder_type.fit_transform(training_data.type)"
   ]
  },
  {
   "cell_type": "code",
   "execution_count": 15,
   "id": "64e68a22-999f-44fe-9944-090a712857df",
   "metadata": {},
   "outputs": [
    {
     "data": {
      "text/html": [
       "<div>\n",
       "<style scoped>\n",
       "    .dataframe tbody tr th:only-of-type {\n",
       "        vertical-align: middle;\n",
       "    }\n",
       "\n",
       "    .dataframe tbody tr th {\n",
       "        vertical-align: top;\n",
       "    }\n",
       "\n",
       "    .dataframe thead th {\n",
       "        text-align: right;\n",
       "    }\n",
       "</style>\n",
       "<table border=\"1\" class=\"dataframe\">\n",
       "  <thead>\n",
       "    <tr style=\"text-align: right;\">\n",
       "      <th></th>\n",
       "      <th>online_order</th>\n",
       "      <th>book_table</th>\n",
       "      <th>Rating</th>\n",
       "      <th>votes</th>\n",
       "      <th>location</th>\n",
       "      <th>rest_type</th>\n",
       "      <th>cuisines</th>\n",
       "      <th>Cost</th>\n",
       "      <th>type</th>\n",
       "    </tr>\n",
       "  </thead>\n",
       "  <tbody>\n",
       "    <tr>\n",
       "      <th>0</th>\n",
       "      <td>True</td>\n",
       "      <td>True</td>\n",
       "      <td>4.10</td>\n",
       "      <td>775</td>\n",
       "      <td>1</td>\n",
       "      <td>1</td>\n",
       "      <td>3</td>\n",
       "      <td>800</td>\n",
       "      <td>0</td>\n",
       "    </tr>\n",
       "    <tr>\n",
       "      <th>1</th>\n",
       "      <td>True</td>\n",
       "      <td>False</td>\n",
       "      <td>4.10</td>\n",
       "      <td>787</td>\n",
       "      <td>1</td>\n",
       "      <td>1</td>\n",
       "      <td>3</td>\n",
       "      <td>800</td>\n",
       "      <td>0</td>\n",
       "    </tr>\n",
       "    <tr>\n",
       "      <th>2</th>\n",
       "      <td>True</td>\n",
       "      <td>False</td>\n",
       "      <td>3.80</td>\n",
       "      <td>918</td>\n",
       "      <td>1</td>\n",
       "      <td>2</td>\n",
       "      <td>3</td>\n",
       "      <td>800</td>\n",
       "      <td>0</td>\n",
       "    </tr>\n",
       "    <tr>\n",
       "      <th>3</th>\n",
       "      <td>False</td>\n",
       "      <td>False</td>\n",
       "      <td>3.70</td>\n",
       "      <td>88</td>\n",
       "      <td>1</td>\n",
       "      <td>1</td>\n",
       "      <td>2</td>\n",
       "      <td>300</td>\n",
       "      <td>0</td>\n",
       "    </tr>\n",
       "    <tr>\n",
       "      <th>4</th>\n",
       "      <td>False</td>\n",
       "      <td>False</td>\n",
       "      <td>3.80</td>\n",
       "      <td>166</td>\n",
       "      <td>4</td>\n",
       "      <td>1</td>\n",
       "      <td>2</td>\n",
       "      <td>600</td>\n",
       "      <td>0</td>\n",
       "    </tr>\n",
       "    <tr>\n",
       "      <th>...</th>\n",
       "      <td>...</td>\n",
       "      <td>...</td>\n",
       "      <td>...</td>\n",
       "      <td>...</td>\n",
       "      <td>...</td>\n",
       "      <td>...</td>\n",
       "      <td>...</td>\n",
       "      <td>...</td>\n",
       "      <td>...</td>\n",
       "    </tr>\n",
       "    <tr>\n",
       "      <th>34631</th>\n",
       "      <td>False</td>\n",
       "      <td>False</td>\n",
       "      <td>3.60</td>\n",
       "      <td>27</td>\n",
       "      <td>89</td>\n",
       "      <td>1</td>\n",
       "      <td>1</td>\n",
       "      <td>1500</td>\n",
       "      <td>6</td>\n",
       "    </tr>\n",
       "    <tr>\n",
       "      <th>34632</th>\n",
       "      <td>False</td>\n",
       "      <td>False</td>\n",
       "      <td>3.73</td>\n",
       "      <td>0</td>\n",
       "      <td>89</td>\n",
       "      <td>1</td>\n",
       "      <td>1</td>\n",
       "      <td>600</td>\n",
       "      <td>6</td>\n",
       "    </tr>\n",
       "    <tr>\n",
       "      <th>34633</th>\n",
       "      <td>False</td>\n",
       "      <td>False</td>\n",
       "      <td>3.73</td>\n",
       "      <td>0</td>\n",
       "      <td>89</td>\n",
       "      <td>1</td>\n",
       "      <td>1</td>\n",
       "      <td>2000</td>\n",
       "      <td>6</td>\n",
       "    </tr>\n",
       "    <tr>\n",
       "      <th>34634</th>\n",
       "      <td>False</td>\n",
       "      <td>True</td>\n",
       "      <td>4.30</td>\n",
       "      <td>236</td>\n",
       "      <td>26</td>\n",
       "      <td>1</td>\n",
       "      <td>1</td>\n",
       "      <td>2500</td>\n",
       "      <td>6</td>\n",
       "    </tr>\n",
       "    <tr>\n",
       "      <th>34635</th>\n",
       "      <td>False</td>\n",
       "      <td>False</td>\n",
       "      <td>3.40</td>\n",
       "      <td>13</td>\n",
       "      <td>26</td>\n",
       "      <td>2</td>\n",
       "      <td>3</td>\n",
       "      <td>1500</td>\n",
       "      <td>6</td>\n",
       "    </tr>\n",
       "  </tbody>\n",
       "</table>\n",
       "<p>34636 rows × 9 columns</p>\n",
       "</div>"
      ],
      "text/plain": [
       "       online_order  book_table  Rating  votes  location  rest_type  cuisines  \\\n",
       "0              True        True    4.10    775         1          1         3   \n",
       "1              True       False    4.10    787         1          1         3   \n",
       "2              True       False    3.80    918         1          2         3   \n",
       "3             False       False    3.70     88         1          1         2   \n",
       "4             False       False    3.80    166         4          1         2   \n",
       "...             ...         ...     ...    ...       ...        ...       ...   \n",
       "34631         False       False    3.60     27        89          1         1   \n",
       "34632         False       False    3.73      0        89          1         1   \n",
       "34633         False       False    3.73      0        89          1         1   \n",
       "34634         False        True    4.30    236        26          1         1   \n",
       "34635         False       False    3.40     13        26          2         3   \n",
       "\n",
       "       Cost  type  \n",
       "0       800     0  \n",
       "1       800     0  \n",
       "2       800     0  \n",
       "3       300     0  \n",
       "4       600     0  \n",
       "...     ...   ...  \n",
       "34631  1500     6  \n",
       "34632   600     6  \n",
       "34633  2000     6  \n",
       "34634  2500     6  \n",
       "34635  1500     6  \n",
       "\n",
       "[34636 rows x 9 columns]"
      ]
     },
     "execution_count": 15,
     "metadata": {},
     "output_type": "execute_result"
    }
   ],
   "source": [
    "training_data"
   ]
  },
  {
   "cell_type": "markdown",
   "id": "bfd3b11f-3bf0-416d-a246-86cede47096f",
   "metadata": {},
   "source": [
    "## Training Model"
   ]
  },
  {
   "cell_type": "code",
   "execution_count": 16,
   "id": "fa95b7bf-a0da-4b37-b9cc-b5d3c05e1c7c",
   "metadata": {},
   "outputs": [],
   "source": [
    "from sklearn.model_selection import train_test_split"
   ]
  },
  {
   "cell_type": "code",
   "execution_count": 17,
   "id": "92ff3faf-d422-401c-a73f-c260fdafa617",
   "metadata": {},
   "outputs": [],
   "source": [
    "features = training_data.drop(columns=[\"Rating\"])"
   ]
  },
  {
   "cell_type": "code",
   "execution_count": 18,
   "id": "5a770fe1-65bf-4ea1-be7b-9f462b8473f1",
   "metadata": {},
   "outputs": [],
   "source": [
    "target = training_data[\"Rating\"]"
   ]
  },
  {
   "cell_type": "code",
   "execution_count": 19,
   "id": "d48cd2ec-55f2-4232-8445-d64eb01d7215",
   "metadata": {},
   "outputs": [],
   "source": [
    "X_train, X_test, y_train, y_test = train_test_split(features,target,test_size=0.1,random_state=10)"
   ]
  },
  {
   "cell_type": "code",
   "execution_count": 20,
   "id": "64b6b3c8-a80c-43d9-a419-41f732580544",
   "metadata": {},
   "outputs": [
    {
     "data": {
      "text/plain": [
       "[31172, 3464, 31172, 3464]"
      ]
     },
     "execution_count": 20,
     "metadata": {},
     "output_type": "execute_result"
    }
   ],
   "source": [
    "[len(x) for x in [X_train, X_test, y_train, y_test]]"
   ]
  },
  {
   "cell_type": "code",
   "execution_count": null,
   "id": "9dff79fe-e66d-40d3-858e-2e44a323053c",
   "metadata": {},
   "outputs": [],
   "source": []
  },
  {
   "cell_type": "code",
   "execution_count": null,
   "id": "e4630d3e-dc60-489b-bff5-8152f7844266",
   "metadata": {},
   "outputs": [],
   "source": []
  },
  {
   "cell_type": "code",
   "execution_count": null,
   "id": "16e42960-c370-4db2-af5c-67bcc996fd8e",
   "metadata": {},
   "outputs": [],
   "source": []
  },
  {
   "cell_type": "markdown",
   "id": "43305c13-314f-4d39-8e1d-8a27d863932e",
   "metadata": {},
   "source": [
    "import pyforest\n",
    "from lazypredict.Supervised import LazyRegressor\n",
    "from pandas.plotting import scatter_matrix"
   ]
  },
  {
   "cell_type": "markdown",
   "id": "2a0a848c-7dd2-470d-90d1-09958e5a4163",
   "metadata": {},
   "source": [
    "reg = LazyRegressor(ignore_warnings=False, custom_metric=None)\n",
    "models, predictions = reg.fit(X_train, X_test, y_train, y_test)\n",
    "print(models)"
   ]
  },
  {
   "cell_type": "code",
   "execution_count": null,
   "id": "c0063d17-931f-4ed4-80f2-e6fc2c0da1c7",
   "metadata": {},
   "outputs": [],
   "source": []
  }
 ],
 "metadata": {
  "kernelspec": {
   "display_name": "Python 3 (ipykernel)",
   "language": "python",
   "name": "python3"
  },
  "language_info": {
   "codemirror_mode": {
    "name": "ipython",
    "version": 3
   },
   "file_extension": ".py",
   "mimetype": "text/x-python",
   "name": "python",
   "nbconvert_exporter": "python",
   "pygments_lexer": "ipython3",
   "version": "3.7.13"
  }
 },
 "nbformat": 4,
 "nbformat_minor": 5
}
